{
 "cells": [
  {
   "cell_type": "markdown",
   "metadata": {},
   "source": [
    "# Imports\n"
   ]
  },
  {
   "cell_type": "code",
   "execution_count": 92,
   "metadata": {},
   "outputs": [],
   "source": [
    "import pandas as pd\n",
    "import matplotlib.pyplot as plt\n",
    "import seaborn as sns\n",
    "import numpy as np\n",
    "import os\n",
    "from visualize import visualize"
   ]
  },
  {
   "cell_type": "markdown",
   "metadata": {},
   "source": [
    "# Reading Data\n"
   ]
  },
  {
   "cell_type": "code",
   "execution_count": 2,
   "metadata": {},
   "outputs": [],
   "source": [
    "df = pd.read_excel(f\"../data/raw/Powerol_Data_ML_v3.xlsx\")"
   ]
  },
  {
   "cell_type": "code",
   "execution_count": 3,
   "metadata": {},
   "outputs": [
    {
     "data": {
      "text/html": [
       "<div>\n",
       "<style scoped>\n",
       "    .dataframe tbody tr th:only-of-type {\n",
       "        vertical-align: middle;\n",
       "    }\n",
       "\n",
       "    .dataframe tbody tr th {\n",
       "        vertical-align: top;\n",
       "    }\n",
       "\n",
       "    .dataframe thead th {\n",
       "        text-align: right;\n",
       "    }\n",
       "</style>\n",
       "<table border=\"1\" class=\"dataframe\">\n",
       "  <thead>\n",
       "    <tr style=\"text-align: right;\">\n",
       "      <th></th>\n",
       "      <th>KVA</th>\n",
       "      <th>Enquiry</th>\n",
       "      <th>Book</th>\n",
       "      <th>SaleInvoice</th>\n",
       "      <th>enquiryDate</th>\n",
       "      <th>SalesOrderDate</th>\n",
       "      <th>InvoiceDate</th>\n",
       "      <th>OEMName</th>\n",
       "      <th>StateName</th>\n",
       "      <th>Region</th>\n",
       "      <th>DealerId</th>\n",
       "      <th>DealerName</th>\n",
       "    </tr>\n",
       "  </thead>\n",
       "  <tbody>\n",
       "    <tr>\n",
       "      <th>0</th>\n",
       "      <td>5.0</td>\n",
       "      <td>1</td>\n",
       "      <td>NaN</td>\n",
       "      <td>0</td>\n",
       "      <td>2023-01-14 11:59:00</td>\n",
       "      <td>NaT</td>\n",
       "      <td>NaT</td>\n",
       "      <td>NaN</td>\n",
       "      <td>NaN</td>\n",
       "      <td>NaN</td>\n",
       "      <td>NaN</td>\n",
       "      <td>NaN</td>\n",
       "    </tr>\n",
       "    <tr>\n",
       "      <th>1</th>\n",
       "      <td>5.0</td>\n",
       "      <td>1</td>\n",
       "      <td>NaN</td>\n",
       "      <td>0</td>\n",
       "      <td>2019-02-11 12:20:00</td>\n",
       "      <td>NaT</td>\n",
       "      <td>NaT</td>\n",
       "      <td>NaN</td>\n",
       "      <td>NaN</td>\n",
       "      <td>NaN</td>\n",
       "      <td>NaN</td>\n",
       "      <td>NaN</td>\n",
       "    </tr>\n",
       "    <tr>\n",
       "      <th>2</th>\n",
       "      <td>5.0</td>\n",
       "      <td>1</td>\n",
       "      <td>NaN</td>\n",
       "      <td>0</td>\n",
       "      <td>2020-10-22 08:19:00</td>\n",
       "      <td>NaT</td>\n",
       "      <td>NaT</td>\n",
       "      <td>NaN</td>\n",
       "      <td>NaN</td>\n",
       "      <td>NaN</td>\n",
       "      <td>NaN</td>\n",
       "      <td>NaN</td>\n",
       "    </tr>\n",
       "    <tr>\n",
       "      <th>3</th>\n",
       "      <td>5.0</td>\n",
       "      <td>1</td>\n",
       "      <td>NaN</td>\n",
       "      <td>0</td>\n",
       "      <td>2024-01-22 16:08:00</td>\n",
       "      <td>NaT</td>\n",
       "      <td>NaT</td>\n",
       "      <td>NaN</td>\n",
       "      <td>NaN</td>\n",
       "      <td>NaN</td>\n",
       "      <td>NaN</td>\n",
       "      <td>NaN</td>\n",
       "    </tr>\n",
       "    <tr>\n",
       "      <th>4</th>\n",
       "      <td>5.0</td>\n",
       "      <td>1</td>\n",
       "      <td>NaN</td>\n",
       "      <td>0</td>\n",
       "      <td>2020-12-17 13:55:00</td>\n",
       "      <td>NaT</td>\n",
       "      <td>NaT</td>\n",
       "      <td>NaN</td>\n",
       "      <td>NaN</td>\n",
       "      <td>NaN</td>\n",
       "      <td>NaN</td>\n",
       "      <td>NaN</td>\n",
       "    </tr>\n",
       "  </tbody>\n",
       "</table>\n",
       "</div>"
      ],
      "text/plain": [
       "   KVA  Enquiry  Book  SaleInvoice         enquiryDate SalesOrderDate  \\\n",
       "0  5.0        1   NaN            0 2023-01-14 11:59:00            NaT   \n",
       "1  5.0        1   NaN            0 2019-02-11 12:20:00            NaT   \n",
       "2  5.0        1   NaN            0 2020-10-22 08:19:00            NaT   \n",
       "3  5.0        1   NaN            0 2024-01-22 16:08:00            NaT   \n",
       "4  5.0        1   NaN            0 2020-12-17 13:55:00            NaT   \n",
       "\n",
       "  InvoiceDate OEMName StateName Region  DealerId DealerName  \n",
       "0         NaT     NaN       NaN    NaN       NaN        NaN  \n",
       "1         NaT     NaN       NaN    NaN       NaN        NaN  \n",
       "2         NaT     NaN       NaN    NaN       NaN        NaN  \n",
       "3         NaT     NaN       NaN    NaN       NaN        NaN  \n",
       "4         NaT     NaN       NaN    NaN       NaN        NaN  "
      ]
     },
     "execution_count": 3,
     "metadata": {},
     "output_type": "execute_result"
    }
   ],
   "source": [
    "df.head()"
   ]
  },
  {
   "cell_type": "markdown",
   "metadata": {},
   "source": [
    "---\n"
   ]
  },
  {
   "cell_type": "markdown",
   "metadata": {},
   "source": [
    "# Data Understanding\n"
   ]
  },
  {
   "cell_type": "code",
   "execution_count": 4,
   "metadata": {},
   "outputs": [
    {
     "data": {
      "text/plain": [
       "(433906, 12)"
      ]
     },
     "execution_count": 4,
     "metadata": {},
     "output_type": "execute_result"
    }
   ],
   "source": [
    "df.shape"
   ]
  },
  {
   "cell_type": "code",
   "execution_count": 5,
   "metadata": {},
   "outputs": [
    {
     "name": "stdout",
     "output_type": "stream",
     "text": [
      "<class 'pandas.core.frame.DataFrame'>\n",
      "RangeIndex: 433906 entries, 0 to 433905\n",
      "Data columns (total 12 columns):\n",
      " #   Column          Non-Null Count   Dtype         \n",
      "---  ------          --------------   -----         \n",
      " 0   KVA             433673 non-null  float64       \n",
      " 1   Enquiry         433906 non-null  int64         \n",
      " 2   Book            112397 non-null  float64       \n",
      " 3   SaleInvoice     433906 non-null  int64         \n",
      " 4   enquiryDate     433906 non-null  datetime64[ns]\n",
      " 5   SalesOrderDate  112397 non-null  datetime64[ns]\n",
      " 6   InvoiceDate     86455 non-null   datetime64[ns]\n",
      " 7   OEMName         18 non-null      object        \n",
      " 8   StateName       106177 non-null  object        \n",
      " 9   Region          106177 non-null  object        \n",
      " 10  DealerId        130501 non-null  float64       \n",
      " 11  DealerName      130501 non-null  object        \n",
      "dtypes: datetime64[ns](3), float64(3), int64(2), object(4)\n",
      "memory usage: 39.7+ MB\n"
     ]
    }
   ],
   "source": [
    "df.info()"
   ]
  },
  {
   "cell_type": "code",
   "execution_count": 6,
   "metadata": {},
   "outputs": [
    {
     "data": {
      "text/plain": [
       "KVA                  233\n",
       "Enquiry                0\n",
       "Book              321509\n",
       "SaleInvoice            0\n",
       "enquiryDate            0\n",
       "SalesOrderDate    321509\n",
       "InvoiceDate       347451\n",
       "OEMName           433888\n",
       "StateName         327729\n",
       "Region            327729\n",
       "DealerId          303405\n",
       "DealerName        303405\n",
       "dtype: int64"
      ]
     },
     "execution_count": 6,
     "metadata": {},
     "output_type": "execute_result"
    }
   ],
   "source": [
    "df.isnull().sum()"
   ]
  },
  {
   "cell_type": "code",
   "execution_count": 7,
   "metadata": {},
   "outputs": [
    {
     "data": {
      "text/html": [
       "<div>\n",
       "<style scoped>\n",
       "    .dataframe tbody tr th:only-of-type {\n",
       "        vertical-align: middle;\n",
       "    }\n",
       "\n",
       "    .dataframe tbody tr th {\n",
       "        vertical-align: top;\n",
       "    }\n",
       "\n",
       "    .dataframe thead th {\n",
       "        text-align: right;\n",
       "    }\n",
       "</style>\n",
       "<table border=\"1\" class=\"dataframe\">\n",
       "  <thead>\n",
       "    <tr style=\"text-align: right;\">\n",
       "      <th></th>\n",
       "      <th>KVA</th>\n",
       "      <th>Enquiry</th>\n",
       "      <th>Book</th>\n",
       "      <th>SaleInvoice</th>\n",
       "      <th>enquiryDate</th>\n",
       "      <th>SalesOrderDate</th>\n",
       "      <th>InvoiceDate</th>\n",
       "      <th>DealerId</th>\n",
       "    </tr>\n",
       "  </thead>\n",
       "  <tbody>\n",
       "    <tr>\n",
       "      <th>count</th>\n",
       "      <td>433673.000000</td>\n",
       "      <td>4.339060e+05</td>\n",
       "      <td>112397.000000</td>\n",
       "      <td>433906.000000</td>\n",
       "      <td>433906</td>\n",
       "      <td>112397</td>\n",
       "      <td>86455</td>\n",
       "      <td>130501.000000</td>\n",
       "    </tr>\n",
       "    <tr>\n",
       "      <th>mean</th>\n",
       "      <td>11.408310</td>\n",
       "      <td>6.227962e+03</td>\n",
       "      <td>1.518786</td>\n",
       "      <td>0.211721</td>\n",
       "      <td>2021-05-09 10:38:38.399192320</td>\n",
       "      <td>2022-03-03 21:47:20.840947712</td>\n",
       "      <td>2022-02-26 00:16:02.387369216</td>\n",
       "      <td>369.696592</td>\n",
       "    </tr>\n",
       "    <tr>\n",
       "      <th>min</th>\n",
       "      <td>1.000000</td>\n",
       "      <td>1.000000e+00</td>\n",
       "      <td>0.000000</td>\n",
       "      <td>0.000000</td>\n",
       "      <td>1979-08-18 00:00:00</td>\n",
       "      <td>2016-03-30 00:00:00</td>\n",
       "      <td>2016-03-21 00:00:00</td>\n",
       "      <td>1.000000</td>\n",
       "    </tr>\n",
       "    <tr>\n",
       "      <th>25%</th>\n",
       "      <td>5.000000</td>\n",
       "      <td>1.000000e+00</td>\n",
       "      <td>1.000000</td>\n",
       "      <td>0.000000</td>\n",
       "      <td>2019-12-14 13:04:00</td>\n",
       "      <td>2020-09-21 00:00:00</td>\n",
       "      <td>2020-10-07 00:00:00</td>\n",
       "      <td>230.000000</td>\n",
       "    </tr>\n",
       "    <tr>\n",
       "      <th>50%</th>\n",
       "      <td>8.000000</td>\n",
       "      <td>1.000000e+00</td>\n",
       "      <td>1.000000</td>\n",
       "      <td>0.000000</td>\n",
       "      <td>2022-01-05 10:05:30</td>\n",
       "      <td>2022-05-23 00:00:00</td>\n",
       "      <td>2022-04-28 00:00:00</td>\n",
       "      <td>447.000000</td>\n",
       "    </tr>\n",
       "    <tr>\n",
       "      <th>75%</th>\n",
       "      <td>16.000000</td>\n",
       "      <td>1.000000e+00</td>\n",
       "      <td>1.000000</td>\n",
       "      <td>0.000000</td>\n",
       "      <td>2023-07-25 15:11:45</td>\n",
       "      <td>2023-08-28 00:00:00</td>\n",
       "      <td>2023-07-31 00:00:00</td>\n",
       "      <td>522.000000</td>\n",
       "    </tr>\n",
       "    <tr>\n",
       "      <th>max</th>\n",
       "      <td>73.000000</td>\n",
       "      <td>1.911527e+09</td>\n",
       "      <td>4624.000000</td>\n",
       "      <td>68.000000</td>\n",
       "      <td>2024-12-11 23:08:00</td>\n",
       "      <td>2024-12-11 00:00:00</td>\n",
       "      <td>2024-12-11 00:00:00</td>\n",
       "      <td>671.000000</td>\n",
       "    </tr>\n",
       "    <tr>\n",
       "      <th>std</th>\n",
       "      <td>9.520609</td>\n",
       "      <td>3.139566e+06</td>\n",
       "      <td>19.057120</td>\n",
       "      <td>0.526962</td>\n",
       "      <td>NaN</td>\n",
       "      <td>NaN</td>\n",
       "      <td>NaN</td>\n",
       "      <td>189.599773</td>\n",
       "    </tr>\n",
       "  </tbody>\n",
       "</table>\n",
       "</div>"
      ],
      "text/plain": [
       "                 KVA       Enquiry           Book    SaleInvoice  \\\n",
       "count  433673.000000  4.339060e+05  112397.000000  433906.000000   \n",
       "mean       11.408310  6.227962e+03       1.518786       0.211721   \n",
       "min         1.000000  1.000000e+00       0.000000       0.000000   \n",
       "25%         5.000000  1.000000e+00       1.000000       0.000000   \n",
       "50%         8.000000  1.000000e+00       1.000000       0.000000   \n",
       "75%        16.000000  1.000000e+00       1.000000       0.000000   \n",
       "max        73.000000  1.911527e+09    4624.000000      68.000000   \n",
       "std         9.520609  3.139566e+06      19.057120       0.526962   \n",
       "\n",
       "                         enquiryDate                 SalesOrderDate  \\\n",
       "count                         433906                         112397   \n",
       "mean   2021-05-09 10:38:38.399192320  2022-03-03 21:47:20.840947712   \n",
       "min              1979-08-18 00:00:00            2016-03-30 00:00:00   \n",
       "25%              2019-12-14 13:04:00            2020-09-21 00:00:00   \n",
       "50%              2022-01-05 10:05:30            2022-05-23 00:00:00   \n",
       "75%              2023-07-25 15:11:45            2023-08-28 00:00:00   \n",
       "max              2024-12-11 23:08:00            2024-12-11 00:00:00   \n",
       "std                              NaN                            NaN   \n",
       "\n",
       "                         InvoiceDate       DealerId  \n",
       "count                          86455  130501.000000  \n",
       "mean   2022-02-26 00:16:02.387369216     369.696592  \n",
       "min              2016-03-21 00:00:00       1.000000  \n",
       "25%              2020-10-07 00:00:00     230.000000  \n",
       "50%              2022-04-28 00:00:00     447.000000  \n",
       "75%              2023-07-31 00:00:00     522.000000  \n",
       "max              2024-12-11 00:00:00     671.000000  \n",
       "std                              NaN     189.599773  "
      ]
     },
     "execution_count": 7,
     "metadata": {},
     "output_type": "execute_result"
    }
   ],
   "source": [
    "df.describe()"
   ]
  },
  {
   "cell_type": "markdown",
   "metadata": {},
   "source": [
    "---\n",
    "\n",
    "### 1. KVA\n"
   ]
  },
  {
   "cell_type": "code",
   "execution_count": 8,
   "metadata": {},
   "outputs": [
    {
     "data": {
      "text/plain": [
       "array([ 5., 13.,  6.,  7.,  8., 18.,  3., 10., 16.,  1., 23.,  9., 11.,\n",
       "       22., 20., 17., 25., 28., 73., 12., 27.,  2., 15., 31., 21., 30.,\n",
       "        4., 33., 19., 26., 14., 35., 34., 32., 29., 37., 36., 41., nan,\n",
       "       24., 38.])"
      ]
     },
     "execution_count": 8,
     "metadata": {},
     "output_type": "execute_result"
    }
   ],
   "source": [
    "df[\"KVA\"].unique()"
   ]
  },
  {
   "cell_type": "code",
   "execution_count": 9,
   "metadata": {},
   "outputs": [
    {
     "data": {
      "text/plain": [
       "40"
      ]
     },
     "execution_count": 9,
     "metadata": {},
     "output_type": "execute_result"
    }
   ],
   "source": [
    "df[\"KVA\"].nunique()"
   ]
  },
  {
   "cell_type": "markdown",
   "metadata": {},
   "source": [
    "<b>Given</b>\n",
    "\n",
    "- There are a total of 29 Generators as given in the list below: <br>\n",
    "  - 5kVA, 10kVA, 15kVA, 20kVA, 25kVA, 25 kVA (Gas Genset), 30kVA, 40kVA, 62.5kVA, 75kVA, 82.5kVA, 100kVA, 125kVA, 125 kVA (Gas Genset), 180kVA, 200kVA, 250kVA, 320kVA, 400kVA, 500kVA, 625kVA, 12.5kVA, 18.5kVA, 22.5kVA, 35kVA, 45kVA, 50kVA, 55kVA, 70kVA\n",
    "\n",
    "---\n",
    "\n",
    "🔬<b>Observations</b>\n",
    "\n",
    "- But there are total 40 unique KVA's in our data: <br>\n",
    "\n",
    "  - [ 5., 13., 6., 7., 8., 18., 3., 10., 16., 1., 23., 9., 11.,\n",
    "    22., 20., 17., 25., 28., 73., 12., 27., 2., 15., 31., 21., 30.,\n",
    "    4., 33., 19., 26., 14., 35., 34., 32., 29., 37., 36., 41., nan,\n",
    "    24., 38.]\n",
    "\n",
    "- Not to be confused with the actual KVAs, because these are KVA IDs\n",
    "- One of them is NaN and it appears 233 times in the dataset (check if there are any SalesInvoice against these else we will be droppping these rows)\n"
   ]
  },
  {
   "cell_type": "code",
   "execution_count": 10,
   "metadata": {},
   "outputs": [
    {
     "name": "stdout",
     "output_type": "stream",
     "text": [
      "There are 0 sales for null KVAs\n"
     ]
    }
   ],
   "source": [
    "print(\n",
    "    \"There are\",\n",
    "    len(df[(df[\"KVA\"].isnull()) & (df[\"SaleInvoice\"] > 0)]),\n",
    "    \"sales for null KVAs\",\n",
    ")"
   ]
  },
  {
   "cell_type": "code",
   "execution_count": 11,
   "metadata": {},
   "outputs": [
    {
     "name": "stdout",
     "output_type": "stream",
     "text": [
      "Dropping: 233 rows\n"
     ]
    }
   ],
   "source": [
    "# ⚡Let's drop these rows, as they do not add value to our analysis.\n",
    "indices_null_kvas = df[(df[\"KVA\"].isnull())].index\n",
    "print(\"Dropping:\", len(indices_null_kvas), \"rows\")\n",
    "df = df.drop(indices_null_kvas)"
   ]
  },
  {
   "cell_type": "code",
   "execution_count": 12,
   "metadata": {},
   "outputs": [
    {
     "data": {
      "text/plain": [
       "(433673, 12)"
      ]
     },
     "execution_count": 12,
     "metadata": {},
     "output_type": "execute_result"
    }
   ],
   "source": [
    "df.shape"
   ]
  },
  {
   "cell_type": "code",
   "execution_count": 13,
   "metadata": {},
   "outputs": [],
   "source": [
    "# Also let's convert these KVA numbers to KVA Product IDs\n",
    "df[\"KVA_Id\"] = df[\"KVA\"].apply(lambda x: f\"P{int(x)}\")\n",
    "df.drop(columns=[\"KVA\"], inplace=True)"
   ]
  },
  {
   "cell_type": "code",
   "execution_count": 14,
   "metadata": {},
   "outputs": [
    {
     "data": {
      "text/html": [
       "<div>\n",
       "<style scoped>\n",
       "    .dataframe tbody tr th:only-of-type {\n",
       "        vertical-align: middle;\n",
       "    }\n",
       "\n",
       "    .dataframe tbody tr th {\n",
       "        vertical-align: top;\n",
       "    }\n",
       "\n",
       "    .dataframe thead th {\n",
       "        text-align: right;\n",
       "    }\n",
       "</style>\n",
       "<table border=\"1\" class=\"dataframe\">\n",
       "  <thead>\n",
       "    <tr style=\"text-align: right;\">\n",
       "      <th></th>\n",
       "      <th>Enquiry</th>\n",
       "      <th>Book</th>\n",
       "      <th>SaleInvoice</th>\n",
       "      <th>enquiryDate</th>\n",
       "      <th>SalesOrderDate</th>\n",
       "      <th>InvoiceDate</th>\n",
       "      <th>OEMName</th>\n",
       "      <th>StateName</th>\n",
       "      <th>Region</th>\n",
       "      <th>DealerId</th>\n",
       "      <th>DealerName</th>\n",
       "      <th>KVA_Id</th>\n",
       "    </tr>\n",
       "  </thead>\n",
       "  <tbody>\n",
       "    <tr>\n",
       "      <th>303250</th>\n",
       "      <td>2</td>\n",
       "      <td>NaN</td>\n",
       "      <td>0</td>\n",
       "      <td>2020-10-24 10:39:00</td>\n",
       "      <td>NaT</td>\n",
       "      <td>NaT</td>\n",
       "      <td>NaN</td>\n",
       "      <td>NaN</td>\n",
       "      <td>NaN</td>\n",
       "      <td>521.0</td>\n",
       "      <td>Escon Gensets Private Limited</td>\n",
       "      <td>P10</td>\n",
       "    </tr>\n",
       "    <tr>\n",
       "      <th>303251</th>\n",
       "      <td>2</td>\n",
       "      <td>NaN</td>\n",
       "      <td>0</td>\n",
       "      <td>2022-12-05 16:59:00</td>\n",
       "      <td>NaT</td>\n",
       "      <td>NaT</td>\n",
       "      <td>NaN</td>\n",
       "      <td>NaN</td>\n",
       "      <td>NaN</td>\n",
       "      <td>595.0</td>\n",
       "      <td>MARUTI INDUSTRIES</td>\n",
       "      <td>P23</td>\n",
       "    </tr>\n",
       "    <tr>\n",
       "      <th>303252</th>\n",
       "      <td>2</td>\n",
       "      <td>NaN</td>\n",
       "      <td>0</td>\n",
       "      <td>2019-12-02 16:46:00</td>\n",
       "      <td>NaT</td>\n",
       "      <td>NaT</td>\n",
       "      <td>NaN</td>\n",
       "      <td>NaN</td>\n",
       "      <td>NaN</td>\n",
       "      <td>557.0</td>\n",
       "      <td>Sri sai infra equipment pvt ltd</td>\n",
       "      <td>P28</td>\n",
       "    </tr>\n",
       "    <tr>\n",
       "      <th>303253</th>\n",
       "      <td>2</td>\n",
       "      <td>NaN</td>\n",
       "      <td>0</td>\n",
       "      <td>2023-05-04 19:50:00</td>\n",
       "      <td>NaT</td>\n",
       "      <td>NaT</td>\n",
       "      <td>NaN</td>\n",
       "      <td>NaN</td>\n",
       "      <td>NaN</td>\n",
       "      <td>632.0</td>\n",
       "      <td>Bansal Brothers</td>\n",
       "      <td>P25</td>\n",
       "    </tr>\n",
       "    <tr>\n",
       "      <th>303254</th>\n",
       "      <td>2</td>\n",
       "      <td>NaN</td>\n",
       "      <td>0</td>\n",
       "      <td>2020-06-02 12:44:00</td>\n",
       "      <td>NaT</td>\n",
       "      <td>NaT</td>\n",
       "      <td>NaN</td>\n",
       "      <td>NaN</td>\n",
       "      <td>NaN</td>\n",
       "      <td>521.0</td>\n",
       "      <td>Escon Gensets Private Limited</td>\n",
       "      <td>P23</td>\n",
       "    </tr>\n",
       "  </tbody>\n",
       "</table>\n",
       "</div>"
      ],
      "text/plain": [
       "        Enquiry  Book  SaleInvoice         enquiryDate SalesOrderDate  \\\n",
       "303250        2   NaN            0 2020-10-24 10:39:00            NaT   \n",
       "303251        2   NaN            0 2022-12-05 16:59:00            NaT   \n",
       "303252        2   NaN            0 2019-12-02 16:46:00            NaT   \n",
       "303253        2   NaN            0 2023-05-04 19:50:00            NaT   \n",
       "303254        2   NaN            0 2020-06-02 12:44:00            NaT   \n",
       "\n",
       "       InvoiceDate OEMName StateName Region  DealerId  \\\n",
       "303250         NaT     NaN       NaN    NaN     521.0   \n",
       "303251         NaT     NaN       NaN    NaN     595.0   \n",
       "303252         NaT     NaN       NaN    NaN     557.0   \n",
       "303253         NaT     NaN       NaN    NaN     632.0   \n",
       "303254         NaT     NaN       NaN    NaN     521.0   \n",
       "\n",
       "                             DealerName KVA_Id  \n",
       "303250    Escon Gensets Private Limited    P10  \n",
       "303251                MARUTI INDUSTRIES    P23  \n",
       "303252  Sri sai infra equipment pvt ltd    P28  \n",
       "303253                  Bansal Brothers    P25  \n",
       "303254    Escon Gensets Private Limited    P23  "
      ]
     },
     "execution_count": 14,
     "metadata": {},
     "output_type": "execute_result"
    }
   ],
   "source": [
    "df[303117:].head()"
   ]
  },
  {
   "cell_type": "code",
   "execution_count": 15,
   "metadata": {},
   "outputs": [
    {
     "data": {
      "image/png": "[encoded data removed]",
      "text/plain": [
       "<Figure size 1000x600 with 1 Axes>"
      ]
     },
     "metadata": {},
     "output_type": "display_data"
    }
   ],
   "source": [
    "visualize.countplot_kva(df)"
   ]
  },
  {
   "cell_type": "markdown",
   "metadata": {},
   "source": [
    "---\n",
    "\n",
    "### 2. Book\n"
   ]
  },
  {
   "cell_type": "code",
   "execution_count": 16,
   "metadata": {},
   "outputs": [
    {
     "name": "stdout",
     "output_type": "stream",
     "text": [
      "There are 321376 nulls in the book column\n",
      "There are 22 0's in the book column\n"
     ]
    }
   ],
   "source": [
    "print(\"There are\", df[\"Book\"].isnull().sum(), \"nulls in the book column\")\n",
    "print(\"There are\", len(df[df[\"Book\"] == 0]), \"0's in the book column\")"
   ]
  },
  {
   "cell_type": "code",
   "execution_count": 17,
   "metadata": {},
   "outputs": [
    {
     "data": {
      "text/plain": [
       "321398"
      ]
     },
     "execution_count": 17,
     "metadata": {},
     "output_type": "execute_result"
    }
   ],
   "source": [
    "df[\"Book\"] = df[\"Book\"].fillna(0)\n",
    "len(df[df[\"Book\"] == 0])"
   ]
  },
  {
   "cell_type": "markdown",
   "metadata": {},
   "source": [
    "This means that 321398 enquiries were never converted to bookings and further Sales\n"
   ]
  },
  {
   "cell_type": "code",
   "execution_count": 18,
   "metadata": {},
   "outputs": [
    {
     "name": "stdout",
     "output_type": "stream",
     "text": [
      "Percentage of Enquiries converted to Bookings:  0.006271597808941096 %\n"
     ]
    }
   ],
   "source": [
    "print(\n",
    "    \"Percentage of Enquiries converted to Bookings: \",\n",
    "    ((sum(df[\"Book\"]) / sum(df[\"Enquiry\"])) * 100),\n",
    "    \"%\",\n",
    ")"
   ]
  },
  {
   "cell_type": "markdown",
   "metadata": {},
   "source": [
    "---\n",
    "\n",
    "### 3. Sales\n"
   ]
  },
  {
   "cell_type": "code",
   "execution_count": 19,
   "metadata": {},
   "outputs": [
    {
     "name": "stdout",
     "output_type": "stream",
     "text": [
      "Percentage of Bookings converted to Sales:  54.20649531497085 %\n"
     ]
    }
   ],
   "source": [
    "print(\n",
    "    \"Percentage of Bookings converted to Sales: \",\n",
    "    ((sum(df[\"SaleInvoice\"]) / sum(df[\"Book\"])) * 100),\n",
    "    \"%\",\n",
    ")"
   ]
  },
  {
   "cell_type": "markdown",
   "metadata": {},
   "source": [
    "---\n",
    "\n",
    "### 4. OEM Name\n"
   ]
  },
  {
   "cell_type": "code",
   "execution_count": 20,
   "metadata": {},
   "outputs": [
    {
     "name": "stdout",
     "output_type": "stream",
     "text": [
      "Total OEMs in the dataset: 18\n"
     ]
    }
   ],
   "source": [
    "print(\"Total OEMs in the dataset:\", len(df[~df[\"OEMName\"].isnull()]))"
   ]
  },
  {
   "cell_type": "code",
   "execution_count": 21,
   "metadata": {},
   "outputs": [
    {
     "data": {
      "text/html": [
       "<div>\n",
       "<style scoped>\n",
       "    .dataframe tbody tr th:only-of-type {\n",
       "        vertical-align: middle;\n",
       "    }\n",
       "\n",
       "    .dataframe tbody tr th {\n",
       "        vertical-align: top;\n",
       "    }\n",
       "\n",
       "    .dataframe thead th {\n",
       "        text-align: right;\n",
       "    }\n",
       "</style>\n",
       "<table border=\"1\" class=\"dataframe\">\n",
       "  <thead>\n",
       "    <tr style=\"text-align: right;\">\n",
       "      <th></th>\n",
       "      <th>Enquiry</th>\n",
       "      <th>Book</th>\n",
       "      <th>SaleInvoice</th>\n",
       "      <th>enquiryDate</th>\n",
       "      <th>SalesOrderDate</th>\n",
       "      <th>InvoiceDate</th>\n",
       "      <th>OEMName</th>\n",
       "      <th>StateName</th>\n",
       "      <th>Region</th>\n",
       "      <th>DealerId</th>\n",
       "      <th>DealerName</th>\n",
       "      <th>KVA_Id</th>\n",
       "    </tr>\n",
       "  </thead>\n",
       "  <tbody>\n",
       "    <tr>\n",
       "      <th>322362</th>\n",
       "      <td>1</td>\n",
       "      <td>1.0</td>\n",
       "      <td>0</td>\n",
       "      <td>2022-12-26 15:55:00</td>\n",
       "      <td>2022-12-26</td>\n",
       "      <td>NaT</td>\n",
       "      <td>MAHINDRA AND MAHINDRA LIMITED</td>\n",
       "      <td>Uttar Pradesh</td>\n",
       "      <td>North1</td>\n",
       "      <td>611.0</td>\n",
       "      <td>PRIME POWER GENERATORS PVT LTD. Chennai</td>\n",
       "      <td>P1</td>\n",
       "    </tr>\n",
       "    <tr>\n",
       "      <th>322363</th>\n",
       "      <td>1</td>\n",
       "      <td>1.0</td>\n",
       "      <td>0</td>\n",
       "      <td>2024-11-20 17:28:00</td>\n",
       "      <td>2024-12-11</td>\n",
       "      <td>NaT</td>\n",
       "      <td>Shyam Global Technoventures Pvt Ltd</td>\n",
       "      <td>Goa</td>\n",
       "      <td>West</td>\n",
       "      <td>587.0</td>\n",
       "      <td>POWERSAFE ENGINEERS</td>\n",
       "      <td>P7</td>\n",
       "    </tr>\n",
       "    <tr>\n",
       "      <th>322364</th>\n",
       "      <td>1</td>\n",
       "      <td>1.0</td>\n",
       "      <td>0</td>\n",
       "      <td>2024-12-11 16:45:00</td>\n",
       "      <td>2024-12-11</td>\n",
       "      <td>NaT</td>\n",
       "      <td>Perfect Generators Technologies Pvt. Ltd.</td>\n",
       "      <td>NaN</td>\n",
       "      <td>NaN</td>\n",
       "      <td>230.0</td>\n",
       "      <td>Perfect Generators Technologies Pvt. Ltd.</td>\n",
       "      <td>P11</td>\n",
       "    </tr>\n",
       "    <tr>\n",
       "      <th>322365</th>\n",
       "      <td>1</td>\n",
       "      <td>1.0</td>\n",
       "      <td>0</td>\n",
       "      <td>2024-12-07 17:27:00</td>\n",
       "      <td>2024-12-11</td>\n",
       "      <td>NaT</td>\n",
       "      <td>Tanwar Industries</td>\n",
       "      <td>Rajasthan</td>\n",
       "      <td>North1</td>\n",
       "      <td>380.0</td>\n",
       "      <td>Tanwar Industries</td>\n",
       "      <td>P18</td>\n",
       "    </tr>\n",
       "    <tr>\n",
       "      <th>322366</th>\n",
       "      <td>1</td>\n",
       "      <td>1.0</td>\n",
       "      <td>0</td>\n",
       "      <td>2024-12-10 16:58:00</td>\n",
       "      <td>2024-12-10</td>\n",
       "      <td>NaT</td>\n",
       "      <td>Southern Gensets</td>\n",
       "      <td>Kerala</td>\n",
       "      <td>South</td>\n",
       "      <td>449.0</td>\n",
       "      <td>Gentech Power Systems</td>\n",
       "      <td>P11</td>\n",
       "    </tr>\n",
       "    <tr>\n",
       "      <th>322367</th>\n",
       "      <td>1</td>\n",
       "      <td>1.0</td>\n",
       "      <td>0</td>\n",
       "      <td>2024-12-11 13:32:00</td>\n",
       "      <td>2024-12-11</td>\n",
       "      <td>NaT</td>\n",
       "      <td>Sharda Diesels Pvt Ltd</td>\n",
       "      <td>Bihar</td>\n",
       "      <td>East</td>\n",
       "      <td>351.0</td>\n",
       "      <td>Agro Power Equipment</td>\n",
       "      <td>P73</td>\n",
       "    </tr>\n",
       "    <tr>\n",
       "      <th>322368</th>\n",
       "      <td>1</td>\n",
       "      <td>1.0</td>\n",
       "      <td>0</td>\n",
       "      <td>2024-12-11 15:34:00</td>\n",
       "      <td>2024-12-11</td>\n",
       "      <td>NaT</td>\n",
       "      <td>Recon Technologies Pvt Ltd</td>\n",
       "      <td>Telangana</td>\n",
       "      <td>South</td>\n",
       "      <td>143.0</td>\n",
       "      <td>Recon Technologies Pvt. Ltd</td>\n",
       "      <td>P5</td>\n",
       "    </tr>\n",
       "    <tr>\n",
       "      <th>322369</th>\n",
       "      <td>1</td>\n",
       "      <td>1.0</td>\n",
       "      <td>0</td>\n",
       "      <td>2024-12-10 16:00:00</td>\n",
       "      <td>2024-12-10</td>\n",
       "      <td>NaT</td>\n",
       "      <td>Gangadhar Industries</td>\n",
       "      <td>Gujarat</td>\n",
       "      <td>West</td>\n",
       "      <td>46.0</td>\n",
       "      <td>Gangadhar Industries</td>\n",
       "      <td>P20</td>\n",
       "    </tr>\n",
       "    <tr>\n",
       "      <th>322370</th>\n",
       "      <td>1</td>\n",
       "      <td>1.0</td>\n",
       "      <td>0</td>\n",
       "      <td>2024-12-11 16:34:00</td>\n",
       "      <td>2024-12-11</td>\n",
       "      <td>NaT</td>\n",
       "      <td>GSP Power Projects retail Division</td>\n",
       "      <td>Orissa</td>\n",
       "      <td>East</td>\n",
       "      <td>454.0</td>\n",
       "      <td>Gurukurpa Generators</td>\n",
       "      <td>P5</td>\n",
       "    </tr>\n",
       "    <tr>\n",
       "      <th>322371</th>\n",
       "      <td>1</td>\n",
       "      <td>1.0</td>\n",
       "      <td>0</td>\n",
       "      <td>2024-12-11 18:26:00</td>\n",
       "      <td>2024-12-11</td>\n",
       "      <td>NaT</td>\n",
       "      <td>Escon Gensets Private Limited</td>\n",
       "      <td>Gujarat</td>\n",
       "      <td>West</td>\n",
       "      <td>521.0</td>\n",
       "      <td>Escon Gensets Private Limited</td>\n",
       "      <td>P5</td>\n",
       "    </tr>\n",
       "    <tr>\n",
       "      <th>322372</th>\n",
       "      <td>1</td>\n",
       "      <td>1.0</td>\n",
       "      <td>0</td>\n",
       "      <td>2023-11-23 12:02:00</td>\n",
       "      <td>2023-12-26</td>\n",
       "      <td>NaT</td>\n",
       "      <td>GSP POWER PROJECTS</td>\n",
       "      <td>Jammu &amp; Kashmir</td>\n",
       "      <td>North1</td>\n",
       "      <td>642.0</td>\n",
       "      <td>Global Generator Service</td>\n",
       "      <td>P9</td>\n",
       "    </tr>\n",
       "    <tr>\n",
       "      <th>322373</th>\n",
       "      <td>1</td>\n",
       "      <td>1.0</td>\n",
       "      <td>0</td>\n",
       "      <td>2024-12-09 18:54:00</td>\n",
       "      <td>2024-12-11</td>\n",
       "      <td>NaT</td>\n",
       "      <td>Joyshree Powerol</td>\n",
       "      <td>Arunachal Pradesh</td>\n",
       "      <td>East</td>\n",
       "      <td>83.0</td>\n",
       "      <td>AAAA ASSOCIATES</td>\n",
       "      <td>P8</td>\n",
       "    </tr>\n",
       "    <tr>\n",
       "      <th>349671</th>\n",
       "      <td>1</td>\n",
       "      <td>1.0</td>\n",
       "      <td>1</td>\n",
       "      <td>2023-01-04 17:00:00</td>\n",
       "      <td>2023-01-04</td>\n",
       "      <td>2023-01-31</td>\n",
       "      <td>KAMAL ENTERPRISES</td>\n",
       "      <td>West Bengal</td>\n",
       "      <td>East</td>\n",
       "      <td>569.0</td>\n",
       "      <td>RBP Enterprise</td>\n",
       "      <td>P25</td>\n",
       "    </tr>\n",
       "    <tr>\n",
       "      <th>349672</th>\n",
       "      <td>1</td>\n",
       "      <td>1.0</td>\n",
       "      <td>1</td>\n",
       "      <td>2020-10-13 19:04:00</td>\n",
       "      <td>2020-10-13</td>\n",
       "      <td>2020-10-13</td>\n",
       "      <td>M/s Pioneer Generator Pvt Ltd</td>\n",
       "      <td>Tamil Nadu</td>\n",
       "      <td>South</td>\n",
       "      <td>26.0</td>\n",
       "      <td>PIONEER GENERATOR PVT LTD(Chennai)</td>\n",
       "      <td>P6</td>\n",
       "    </tr>\n",
       "    <tr>\n",
       "      <th>349673</th>\n",
       "      <td>1</td>\n",
       "      <td>1.0</td>\n",
       "      <td>1</td>\n",
       "      <td>2023-04-17 16:05:00</td>\n",
       "      <td>2023-04-17</td>\n",
       "      <td>2023-04-20</td>\n",
       "      <td>Shaktiman Equipments private Limited</td>\n",
       "      <td>Tamil Nadu</td>\n",
       "      <td>South</td>\n",
       "      <td>27.0</td>\n",
       "      <td>Sun Power Services</td>\n",
       "      <td>P18</td>\n",
       "    </tr>\n",
       "    <tr>\n",
       "      <th>349674</th>\n",
       "      <td>1</td>\n",
       "      <td>1.0</td>\n",
       "      <td>1</td>\n",
       "      <td>2024-09-27 13:43:00</td>\n",
       "      <td>2024-11-30</td>\n",
       "      <td>2024-11-30</td>\n",
       "      <td>MAHAMAYA UNITRADE PROJECTS</td>\n",
       "      <td>Chhattisgarh</td>\n",
       "      <td>West</td>\n",
       "      <td>375.0</td>\n",
       "      <td>MAHAMAYA UNITRADE and PROJECTS</td>\n",
       "      <td>P6</td>\n",
       "    </tr>\n",
       "    <tr>\n",
       "      <th>349675</th>\n",
       "      <td>1</td>\n",
       "      <td>1.0</td>\n",
       "      <td>1</td>\n",
       "      <td>2024-12-10 23:05:00</td>\n",
       "      <td>2024-12-10</td>\n",
       "      <td>2024-12-10</td>\n",
       "      <td>Rahim Engineering Works</td>\n",
       "      <td>Jammu &amp; Kashmir</td>\n",
       "      <td>North1</td>\n",
       "      <td>121.0</td>\n",
       "      <td>Rahim Engineering Works</td>\n",
       "      <td>P6</td>\n",
       "    </tr>\n",
       "    <tr>\n",
       "      <th>349676</th>\n",
       "      <td>1</td>\n",
       "      <td>1.0</td>\n",
       "      <td>1</td>\n",
       "      <td>2024-12-11 11:45:00</td>\n",
       "      <td>2024-12-11</td>\n",
       "      <td>2024-12-11</td>\n",
       "      <td>Akash Vintrade Pvt. Ltd.</td>\n",
       "      <td>Bihar</td>\n",
       "      <td>East</td>\n",
       "      <td>101.0</td>\n",
       "      <td>Akash Vintrade Pvt. Ltd.</td>\n",
       "      <td>P9</td>\n",
       "    </tr>\n",
       "  </tbody>\n",
       "</table>\n",
       "</div>"
      ],
      "text/plain": [
       "        Enquiry  Book  SaleInvoice         enquiryDate SalesOrderDate  \\\n",
       "322362        1   1.0            0 2022-12-26 15:55:00     2022-12-26   \n",
       "322363        1   1.0            0 2024-11-20 17:28:00     2024-12-11   \n",
       "322364        1   1.0            0 2024-12-11 16:45:00     2024-12-11   \n",
       "322365        1   1.0            0 2024-12-07 17:27:00     2024-12-11   \n",
       "322366        1   1.0            0 2024-12-10 16:58:00     2024-12-10   \n",
       "322367        1   1.0            0 2024-12-11 13:32:00     2024-12-11   \n",
       "322368        1   1.0            0 2024-12-11 15:34:00     2024-12-11   \n",
       "322369        1   1.0            0 2024-12-10 16:00:00     2024-12-10   \n",
       "322370        1   1.0            0 2024-12-11 16:34:00     2024-12-11   \n",
       "322371        1   1.0            0 2024-12-11 18:26:00     2024-12-11   \n",
       "322372        1   1.0            0 2023-11-23 12:02:00     2023-12-26   \n",
       "322373        1   1.0            0 2024-12-09 18:54:00     2024-12-11   \n",
       "349671        1   1.0            1 2023-01-04 17:00:00     2023-01-04   \n",
       "349672        1   1.0            1 2020-10-13 19:04:00     2020-10-13   \n",
       "349673        1   1.0            1 2023-04-17 16:05:00     2023-04-17   \n",
       "349674        1   1.0            1 2024-09-27 13:43:00     2024-11-30   \n",
       "349675        1   1.0            1 2024-12-10 23:05:00     2024-12-10   \n",
       "349676        1   1.0            1 2024-12-11 11:45:00     2024-12-11   \n",
       "\n",
       "       InvoiceDate                                    OEMName  \\\n",
       "322362         NaT              MAHINDRA AND MAHINDRA LIMITED   \n",
       "322363         NaT        Shyam Global Technoventures Pvt Ltd   \n",
       "322364         NaT  Perfect Generators Technologies Pvt. Ltd.   \n",
       "322365         NaT                          Tanwar Industries   \n",
       "322366         NaT                           Southern Gensets   \n",
       "322367         NaT                     Sharda Diesels Pvt Ltd   \n",
       "322368         NaT                 Recon Technologies Pvt Ltd   \n",
       "322369         NaT                       Gangadhar Industries   \n",
       "322370         NaT         GSP Power Projects retail Division   \n",
       "322371         NaT              Escon Gensets Private Limited   \n",
       "322372         NaT                         GSP POWER PROJECTS   \n",
       "322373         NaT                           Joyshree Powerol   \n",
       "349671  2023-01-31                          KAMAL ENTERPRISES   \n",
       "349672  2020-10-13              M/s Pioneer Generator Pvt Ltd   \n",
       "349673  2023-04-20       Shaktiman Equipments private Limited   \n",
       "349674  2024-11-30                 MAHAMAYA UNITRADE PROJECTS   \n",
       "349675  2024-12-10                    Rahim Engineering Works   \n",
       "349676  2024-12-11                   Akash Vintrade Pvt. Ltd.   \n",
       "\n",
       "                StateName  Region  DealerId  \\\n",
       "322362      Uttar Pradesh  North1     611.0   \n",
       "322363                Goa    West     587.0   \n",
       "322364                NaN     NaN     230.0   \n",
       "322365          Rajasthan  North1     380.0   \n",
       "322366             Kerala   South     449.0   \n",
       "322367              Bihar    East     351.0   \n",
       "322368          Telangana   South     143.0   \n",
       "322369            Gujarat    West      46.0   \n",
       "322370             Orissa    East     454.0   \n",
       "322371            Gujarat    West     521.0   \n",
       "322372    Jammu & Kashmir  North1     642.0   \n",
       "322373  Arunachal Pradesh    East      83.0   \n",
       "349671        West Bengal    East     569.0   \n",
       "349672         Tamil Nadu   South      26.0   \n",
       "349673         Tamil Nadu   South      27.0   \n",
       "349674       Chhattisgarh    West     375.0   \n",
       "349675    Jammu & Kashmir  North1     121.0   \n",
       "349676              Bihar    East     101.0   \n",
       "\n",
       "                                       DealerName KVA_Id  \n",
       "322362    PRIME POWER GENERATORS PVT LTD. Chennai     P1  \n",
       "322363                        POWERSAFE ENGINEERS     P7  \n",
       "322364  Perfect Generators Technologies Pvt. Ltd.    P11  \n",
       "322365                          Tanwar Industries    P18  \n",
       "322366                      Gentech Power Systems    P11  \n",
       "322367                       Agro Power Equipment    P73  \n",
       "322368                Recon Technologies Pvt. Ltd     P5  \n",
       "322369                       Gangadhar Industries    P20  \n",
       "322370                       Gurukurpa Generators     P5  \n",
       "322371              Escon Gensets Private Limited     P5  \n",
       "322372                   Global Generator Service     P9  \n",
       "322373                            AAAA ASSOCIATES     P8  \n",
       "349671                             RBP Enterprise    P25  \n",
       "349672         PIONEER GENERATOR PVT LTD(Chennai)     P6  \n",
       "349673                         Sun Power Services    P18  \n",
       "349674             MAHAMAYA UNITRADE and PROJECTS     P6  \n",
       "349675                    Rahim Engineering Works     P6  \n",
       "349676                   Akash Vintrade Pvt. Ltd.     P9  "
      ]
     },
     "execution_count": 21,
     "metadata": {},
     "output_type": "execute_result"
    }
   ],
   "source": [
    "df[~df[\"OEMName\"].isnull()]"
   ]
  },
  {
   "cell_type": "markdown",
   "metadata": {},
   "source": [
    "⚡As there are only 18 rows contaning information about OEMs, we will be removing the column completely\n"
   ]
  },
  {
   "cell_type": "code",
   "execution_count": 22,
   "metadata": {},
   "outputs": [],
   "source": [
    "df.drop(columns=[\"OEMName\"], inplace=True)"
   ]
  },
  {
   "cell_type": "markdown",
   "metadata": {},
   "source": [
    "---\n",
    "\n",
    "### 5. State Name\n"
   ]
  },
  {
   "cell_type": "code",
   "execution_count": 23,
   "metadata": {},
   "outputs": [
    {
     "data": {
      "text/plain": [
       "36"
      ]
     },
     "execution_count": 23,
     "metadata": {},
     "output_type": "execute_result"
    }
   ],
   "source": [
    "df[\"StateName\"].nunique()"
   ]
  },
  {
   "cell_type": "code",
   "execution_count": 24,
   "metadata": {},
   "outputs": [
    {
     "data": {
      "text/plain": [
       "array([nan, 'Gujarat', 'Assam', 'Jammu & Kashmir', 'Goa',\n",
       "       'Madhya Pradesh', 'Rajasthan', 'Uttar Pradesh', 'Telangana',\n",
       "       'Kerala', 'Nagaland', 'Karnataka', 'Tamil Nadu', 'Maharashtra',\n",
       "       'Andhra Pradesh', 'Bihar', 'Jharkhand', 'Manipur', 'Haryana',\n",
       "       'Uttarakhand', 'Delhi', 'Chhattisgarh', 'Punjab', 'Meghalaya',\n",
       "       'Arunachal Pradesh', 'West Bengal', 'Orissa', 'Puducherry',\n",
       "       'Andaman & Nicobar Islands', 'Mizoram', 'Tripura', 'Chandigarh',\n",
       "       'Daman & Diu', 'Dadra and Nagar Haveli', 'Sikkim',\n",
       "       'Himachal Pradesh', 'Lakshadweep'], dtype=object)"
      ]
     },
     "execution_count": 24,
     "metadata": {},
     "output_type": "execute_result"
    }
   ],
   "source": [
    "df[\"StateName\"].unique()"
   ]
  },
  {
   "cell_type": "markdown",
   "metadata": {},
   "source": [
    "🔬The above list contatins the names of states as well as union territories (except for Ladakh):<br>\n",
    "UTs: Andaman and Nicobar Islands,\n",
    "Chandigarh,\n",
    "Dadra and Nagar Haveli and Daman and Diu,\n",
    "Delhi,\n",
    "Jammu and Kashmir,\n",
    "Ladakh,\n",
    "Lakshadweep,\n",
    "Puducherry\n",
    "\n",
    "---\n"
   ]
  },
  {
   "cell_type": "code",
   "execution_count": 25,
   "metadata": {},
   "outputs": [
    {
     "data": {
      "text/plain": [
       "np.int64(106088)"
      ]
     },
     "execution_count": 25,
     "metadata": {},
     "output_type": "execute_result"
    }
   ],
   "source": [
    "len(df) - df[\"StateName\"].isnull().sum()"
   ]
  },
  {
   "cell_type": "markdown",
   "metadata": {},
   "source": [
    "---\n",
    "\n",
    "### 6. Region\n"
   ]
  },
  {
   "cell_type": "code",
   "execution_count": 26,
   "metadata": {},
   "outputs": [
    {
     "data": {
      "text/plain": [
       "array([nan, 'West', 'East', 'North1', 'South'], dtype=object)"
      ]
     },
     "execution_count": 26,
     "metadata": {},
     "output_type": "execute_result"
    }
   ],
   "source": [
    "df[\"Region\"].unique()"
   ]
  },
  {
   "cell_type": "code",
   "execution_count": 27,
   "metadata": {},
   "outputs": [
    {
     "data": {
      "text/plain": [
       "np.int64(106088)"
      ]
     },
     "execution_count": 27,
     "metadata": {},
     "output_type": "execute_result"
    }
   ],
   "source": [
    "len(df) - df[\"Region\"].isnull().sum()"
   ]
  },
  {
   "cell_type": "markdown",
   "metadata": {},
   "source": [
    "---\n",
    "\n",
    "### 7. Dealer Name & Dealer Id\n"
   ]
  },
  {
   "cell_type": "code",
   "execution_count": 28,
   "metadata": {},
   "outputs": [
    {
     "data": {
      "text/plain": [
       "261"
      ]
     },
     "execution_count": 28,
     "metadata": {},
     "output_type": "execute_result"
    }
   ],
   "source": [
    "df[\"DealerName\"].nunique()"
   ]
  },
  {
   "cell_type": "code",
   "execution_count": 29,
   "metadata": {},
   "outputs": [
    {
     "data": {
      "text/plain": [
       "np.int64(130501)"
      ]
     },
     "execution_count": 29,
     "metadata": {},
     "output_type": "execute_result"
    }
   ],
   "source": [
    "len(df) - df[\"DealerName\"].isnull().sum()"
   ]
  },
  {
   "cell_type": "code",
   "execution_count": 30,
   "metadata": {},
   "outputs": [
    {
     "data": {
      "text/plain": [
       "261"
      ]
     },
     "execution_count": 30,
     "metadata": {},
     "output_type": "execute_result"
    }
   ],
   "source": [
    "df[\"DealerId\"].nunique()"
   ]
  },
  {
   "cell_type": "code",
   "execution_count": 31,
   "metadata": {},
   "outputs": [
    {
     "data": {
      "text/plain": [
       "np.int64(303172)"
      ]
     },
     "execution_count": 31,
     "metadata": {},
     "output_type": "execute_result"
    }
   ],
   "source": [
    "df[\"DealerId\"].isnull().sum()"
   ]
  },
  {
   "cell_type": "code",
   "execution_count": 32,
   "metadata": {},
   "outputs": [
    {
     "data": {
      "text/plain": [
       "303172"
      ]
     },
     "execution_count": 32,
     "metadata": {},
     "output_type": "execute_result"
    }
   ],
   "source": [
    "len(df[(df[\"DealerId\"].isnull()) & (df[\"SaleInvoice\"] == 0)])"
   ]
  },
  {
   "cell_type": "code",
   "execution_count": 33,
   "metadata": {},
   "outputs": [
    {
     "data": {
      "text/plain": [
       "302982"
      ]
     },
     "execution_count": 33,
     "metadata": {},
     "output_type": "execute_result"
    }
   ],
   "source": [
    "len(df[(df[\"DealerId\"].isnull()) & (df[\"Book\"] == 0)])"
   ]
  },
  {
   "cell_type": "markdown",
   "metadata": {},
   "source": [
    "🔬\n",
    "\n",
    "- We can clearly observe that places where Dealer ID and Dealer Name are blank, the SaleInvoice Quantity is also 0. These might be enquiries that might have come online.\n",
    "- We can also see that some of them have still gotten booked, but ultimately \"Sale\" matters.\n",
    "\n",
    "---\n",
    "\n",
    "⚡Since we have no information regarding the Dealers, we will be dropping these rows.\n"
   ]
  },
  {
   "cell_type": "code",
   "execution_count": 34,
   "metadata": {},
   "outputs": [],
   "source": [
    "df = df[~df[\"DealerId\"].isnull()]"
   ]
  },
  {
   "cell_type": "code",
   "execution_count": 35,
   "metadata": {},
   "outputs": [
    {
     "data": {
      "text/plain": [
       "(130501, 11)"
      ]
     },
     "execution_count": 35,
     "metadata": {},
     "output_type": "execute_result"
    }
   ],
   "source": [
    "df.shape"
   ]
  },
  {
   "cell_type": "code",
   "execution_count": 36,
   "metadata": {},
   "outputs": [
    {
     "data": {
      "image/png": "[encoded data removed]",
      "text/plain": [
       "<Figure size 1000x600 with 1 Axes>"
      ]
     },
     "metadata": {},
     "output_type": "display_data"
    }
   ],
   "source": [
    "visualize.countplot_kva(df)"
   ]
  },
  {
   "cell_type": "markdown",
   "metadata": {},
   "source": [
    "🔬We can see that demand for P5 is still higher though the overall count has decreased.\n",
    "\n",
    "⚡Let's take P5 for our initial forecasting\n"
   ]
  },
  {
   "cell_type": "markdown",
   "metadata": {},
   "source": [
    "# 📈 Analysis of P5\n"
   ]
  },
  {
   "cell_type": "code",
   "execution_count": 37,
   "metadata": {},
   "outputs": [],
   "source": [
    "df_p5 = df[df[\"KVA_Id\"] == \"P5\"]"
   ]
  },
  {
   "cell_type": "code",
   "execution_count": 38,
   "metadata": {},
   "outputs": [
    {
     "data": {
      "text/html": [
       "<div>\n",
       "<style scoped>\n",
       "    .dataframe tbody tr th:only-of-type {\n",
       "        vertical-align: middle;\n",
       "    }\n",
       "\n",
       "    .dataframe tbody tr th {\n",
       "        vertical-align: top;\n",
       "    }\n",
       "\n",
       "    .dataframe thead th {\n",
       "        text-align: right;\n",
       "    }\n",
       "</style>\n",
       "<table border=\"1\" class=\"dataframe\">\n",
       "  <thead>\n",
       "    <tr style=\"text-align: right;\">\n",
       "      <th></th>\n",
       "      <th>Enquiry</th>\n",
       "      <th>Book</th>\n",
       "      <th>SaleInvoice</th>\n",
       "      <th>enquiryDate</th>\n",
       "      <th>SalesOrderDate</th>\n",
       "      <th>InvoiceDate</th>\n",
       "      <th>StateName</th>\n",
       "      <th>Region</th>\n",
       "      <th>DealerId</th>\n",
       "      <th>DealerName</th>\n",
       "      <th>KVA_Id</th>\n",
       "    </tr>\n",
       "  </thead>\n",
       "  <tbody>\n",
       "    <tr>\n",
       "      <th>303136</th>\n",
       "      <td>2</td>\n",
       "      <td>0.0</td>\n",
       "      <td>0</td>\n",
       "      <td>2020-06-25 00:00:00</td>\n",
       "      <td>NaT</td>\n",
       "      <td>NaT</td>\n",
       "      <td>NaN</td>\n",
       "      <td>NaN</td>\n",
       "      <td>230.0</td>\n",
       "      <td>Perfect Generators Technologies Pvt. Ltd.</td>\n",
       "      <td>P5</td>\n",
       "    </tr>\n",
       "    <tr>\n",
       "      <th>303154</th>\n",
       "      <td>2</td>\n",
       "      <td>0.0</td>\n",
       "      <td>0</td>\n",
       "      <td>2023-11-25 13:18:00</td>\n",
       "      <td>NaT</td>\n",
       "      <td>NaT</td>\n",
       "      <td>NaN</td>\n",
       "      <td>NaN</td>\n",
       "      <td>448.0</td>\n",
       "      <td>P L Bagri &amp; Co</td>\n",
       "      <td>P5</td>\n",
       "    </tr>\n",
       "    <tr>\n",
       "      <th>303197</th>\n",
       "      <td>2</td>\n",
       "      <td>0.0</td>\n",
       "      <td>0</td>\n",
       "      <td>2024-03-20 19:29:00</td>\n",
       "      <td>NaT</td>\n",
       "      <td>NaT</td>\n",
       "      <td>NaN</td>\n",
       "      <td>NaN</td>\n",
       "      <td>568.0</td>\n",
       "      <td>Power Elite</td>\n",
       "      <td>P5</td>\n",
       "    </tr>\n",
       "    <tr>\n",
       "      <th>303232</th>\n",
       "      <td>2</td>\n",
       "      <td>0.0</td>\n",
       "      <td>0</td>\n",
       "      <td>2023-09-18 09:42:00</td>\n",
       "      <td>NaT</td>\n",
       "      <td>NaT</td>\n",
       "      <td>NaN</td>\n",
       "      <td>NaN</td>\n",
       "      <td>617.0</td>\n",
       "      <td>A J Industries</td>\n",
       "      <td>P5</td>\n",
       "    </tr>\n",
       "    <tr>\n",
       "      <th>303237</th>\n",
       "      <td>2</td>\n",
       "      <td>0.0</td>\n",
       "      <td>0</td>\n",
       "      <td>2024-12-05 00:00:00</td>\n",
       "      <td>NaT</td>\n",
       "      <td>NaT</td>\n",
       "      <td>NaN</td>\n",
       "      <td>NaN</td>\n",
       "      <td>660.0</td>\n",
       "      <td>Advik Enterprises</td>\n",
       "      <td>P5</td>\n",
       "    </tr>\n",
       "  </tbody>\n",
       "</table>\n",
       "</div>"
      ],
      "text/plain": [
       "        Enquiry  Book  SaleInvoice         enquiryDate SalesOrderDate  \\\n",
       "303136        2   0.0            0 2020-06-25 00:00:00            NaT   \n",
       "303154        2   0.0            0 2023-11-25 13:18:00            NaT   \n",
       "303197        2   0.0            0 2024-03-20 19:29:00            NaT   \n",
       "303232        2   0.0            0 2023-09-18 09:42:00            NaT   \n",
       "303237        2   0.0            0 2024-12-05 00:00:00            NaT   \n",
       "\n",
       "       InvoiceDate StateName Region  DealerId  \\\n",
       "303136         NaT       NaN    NaN     230.0   \n",
       "303154         NaT       NaN    NaN     448.0   \n",
       "303197         NaT       NaN    NaN     568.0   \n",
       "303232         NaT       NaN    NaN     617.0   \n",
       "303237         NaT       NaN    NaN     660.0   \n",
       "\n",
       "                                       DealerName KVA_Id  \n",
       "303136  Perfect Generators Technologies Pvt. Ltd.     P5  \n",
       "303154                             P L Bagri & Co     P5  \n",
       "303197                                Power Elite     P5  \n",
       "303232                             A J Industries     P5  \n",
       "303237                          Advik Enterprises     P5  "
      ]
     },
     "execution_count": 38,
     "metadata": {},
     "output_type": "execute_result"
    }
   ],
   "source": [
    "df_p5.head()"
   ]
  },
  {
   "cell_type": "code",
   "execution_count": 39,
   "metadata": {},
   "outputs": [
    {
     "data": {
      "text/plain": [
       "(23461, 11)"
      ]
     },
     "execution_count": 39,
     "metadata": {},
     "output_type": "execute_result"
    }
   ],
   "source": [
    "df_p5.shape"
   ]
  },
  {
   "cell_type": "code",
   "execution_count": 40,
   "metadata": {},
   "outputs": [],
   "source": [
    "df_p5 = df_p5.rename(\n",
    "    columns={\n",
    "        \"Enquiry\": \"Enquiry_Quantity\",\n",
    "        \"Book\": \"Booking_Quantity\",\n",
    "        \"SaleInvoice\": \"Invoice_Quantity\",\n",
    "        \"SalesOrderDate\": \"BookingDate\",\n",
    "    }\n",
    ")"
   ]
  },
  {
   "cell_type": "code",
   "execution_count": 41,
   "metadata": {},
   "outputs": [
    {
     "data": {
      "text/html": [
       "<div>\n",
       "<style scoped>\n",
       "    .dataframe tbody tr th:only-of-type {\n",
       "        vertical-align: middle;\n",
       "    }\n",
       "\n",
       "    .dataframe tbody tr th {\n",
       "        vertical-align: top;\n",
       "    }\n",
       "\n",
       "    .dataframe thead th {\n",
       "        text-align: right;\n",
       "    }\n",
       "</style>\n",
       "<table border=\"1\" class=\"dataframe\">\n",
       "  <thead>\n",
       "    <tr style=\"text-align: right;\">\n",
       "      <th></th>\n",
       "      <th>Enquiry_Quantity</th>\n",
       "      <th>Booking_Quantity</th>\n",
       "      <th>Invoice_Quantity</th>\n",
       "      <th>enquiryDate</th>\n",
       "      <th>BookingDate</th>\n",
       "      <th>InvoiceDate</th>\n",
       "      <th>StateName</th>\n",
       "      <th>Region</th>\n",
       "      <th>DealerId</th>\n",
       "      <th>DealerName</th>\n",
       "      <th>KVA_Id</th>\n",
       "    </tr>\n",
       "  </thead>\n",
       "  <tbody>\n",
       "    <tr>\n",
       "      <th>303136</th>\n",
       "      <td>2</td>\n",
       "      <td>0.0</td>\n",
       "      <td>0</td>\n",
       "      <td>2020-06-25 00:00:00</td>\n",
       "      <td>NaT</td>\n",
       "      <td>NaT</td>\n",
       "      <td>NaN</td>\n",
       "      <td>NaN</td>\n",
       "      <td>230.0</td>\n",
       "      <td>Perfect Generators Technologies Pvt. Ltd.</td>\n",
       "      <td>P5</td>\n",
       "    </tr>\n",
       "    <tr>\n",
       "      <th>303154</th>\n",
       "      <td>2</td>\n",
       "      <td>0.0</td>\n",
       "      <td>0</td>\n",
       "      <td>2023-11-25 13:18:00</td>\n",
       "      <td>NaT</td>\n",
       "      <td>NaT</td>\n",
       "      <td>NaN</td>\n",
       "      <td>NaN</td>\n",
       "      <td>448.0</td>\n",
       "      <td>P L Bagri &amp; Co</td>\n",
       "      <td>P5</td>\n",
       "    </tr>\n",
       "    <tr>\n",
       "      <th>303197</th>\n",
       "      <td>2</td>\n",
       "      <td>0.0</td>\n",
       "      <td>0</td>\n",
       "      <td>2024-03-20 19:29:00</td>\n",
       "      <td>NaT</td>\n",
       "      <td>NaT</td>\n",
       "      <td>NaN</td>\n",
       "      <td>NaN</td>\n",
       "      <td>568.0</td>\n",
       "      <td>Power Elite</td>\n",
       "      <td>P5</td>\n",
       "    </tr>\n",
       "    <tr>\n",
       "      <th>303232</th>\n",
       "      <td>2</td>\n",
       "      <td>0.0</td>\n",
       "      <td>0</td>\n",
       "      <td>2023-09-18 09:42:00</td>\n",
       "      <td>NaT</td>\n",
       "      <td>NaT</td>\n",
       "      <td>NaN</td>\n",
       "      <td>NaN</td>\n",
       "      <td>617.0</td>\n",
       "      <td>A J Industries</td>\n",
       "      <td>P5</td>\n",
       "    </tr>\n",
       "    <tr>\n",
       "      <th>303237</th>\n",
       "      <td>2</td>\n",
       "      <td>0.0</td>\n",
       "      <td>0</td>\n",
       "      <td>2024-12-05 00:00:00</td>\n",
       "      <td>NaT</td>\n",
       "      <td>NaT</td>\n",
       "      <td>NaN</td>\n",
       "      <td>NaN</td>\n",
       "      <td>660.0</td>\n",
       "      <td>Advik Enterprises</td>\n",
       "      <td>P5</td>\n",
       "    </tr>\n",
       "  </tbody>\n",
       "</table>\n",
       "</div>"
      ],
      "text/plain": [
       "        Enquiry_Quantity  Booking_Quantity  Invoice_Quantity  \\\n",
       "303136                 2               0.0                 0   \n",
       "303154                 2               0.0                 0   \n",
       "303197                 2               0.0                 0   \n",
       "303232                 2               0.0                 0   \n",
       "303237                 2               0.0                 0   \n",
       "\n",
       "               enquiryDate BookingDate InvoiceDate StateName Region  DealerId  \\\n",
       "303136 2020-06-25 00:00:00         NaT         NaT       NaN    NaN     230.0   \n",
       "303154 2023-11-25 13:18:00         NaT         NaT       NaN    NaN     448.0   \n",
       "303197 2024-03-20 19:29:00         NaT         NaT       NaN    NaN     568.0   \n",
       "303232 2023-09-18 09:42:00         NaT         NaT       NaN    NaN     617.0   \n",
       "303237 2024-12-05 00:00:00         NaT         NaT       NaN    NaN     660.0   \n",
       "\n",
       "                                       DealerName KVA_Id  \n",
       "303136  Perfect Generators Technologies Pvt. Ltd.     P5  \n",
       "303154                             P L Bagri & Co     P5  \n",
       "303197                                Power Elite     P5  \n",
       "303232                             A J Industries     P5  \n",
       "303237                          Advik Enterprises     P5  "
      ]
     },
     "execution_count": 41,
     "metadata": {},
     "output_type": "execute_result"
    }
   ],
   "source": [
    "df_p5.head()"
   ]
  },
  {
   "cell_type": "code",
   "execution_count": 42,
   "metadata": {},
   "outputs": [
    {
     "name": "stdout",
     "output_type": "stream",
     "text": [
      "<class 'pandas.core.frame.DataFrame'>\n",
      "Index: 23461 entries, 303136 to 433905\n",
      "Data columns (total 11 columns):\n",
      " #   Column            Non-Null Count  Dtype         \n",
      "---  ------            --------------  -----         \n",
      " 0   Enquiry_Quantity  23461 non-null  int64         \n",
      " 1   Booking_Quantity  23461 non-null  float64       \n",
      " 2   Invoice_Quantity  23461 non-null  int64         \n",
      " 3   enquiryDate       23461 non-null  datetime64[ns]\n",
      " 4   BookingDate       20896 non-null  datetime64[ns]\n",
      " 5   InvoiceDate       16289 non-null  datetime64[ns]\n",
      " 6   StateName         19996 non-null  object        \n",
      " 7   Region            19996 non-null  object        \n",
      " 8   DealerId          23461 non-null  float64       \n",
      " 9   DealerName        23461 non-null  object        \n",
      " 10  KVA_Id            23461 non-null  object        \n",
      "dtypes: datetime64[ns](3), float64(2), int64(2), object(4)\n",
      "memory usage: 2.1+ MB\n"
     ]
    }
   ],
   "source": [
    "df_p5.info()"
   ]
  },
  {
   "cell_type": "code",
   "execution_count": 43,
   "metadata": {},
   "outputs": [
    {
     "data": {
      "text/plain": [
       "(20892, 11)"
      ]
     },
     "execution_count": 43,
     "metadata": {},
     "output_type": "execute_result"
    }
   ],
   "source": [
    "df_p5[df_p5[\"Booking_Quantity\"] > 0].shape"
   ]
  },
  {
   "cell_type": "code",
   "execution_count": 44,
   "metadata": {},
   "outputs": [
    {
     "data": {
      "text/plain": [
       "Index(['Enquiry_Quantity', 'Booking_Quantity', 'Invoice_Quantity',\n",
       "       'enquiryDate', 'BookingDate', 'InvoiceDate', 'StateName', 'Region',\n",
       "       'DealerId', 'DealerName', 'KVA_Id'],\n",
       "      dtype='object')"
      ]
     },
     "execution_count": 44,
     "metadata": {},
     "output_type": "execute_result"
    }
   ],
   "source": [
    "df_p5.columns"
   ]
  },
  {
   "cell_type": "code",
   "execution_count": 45,
   "metadata": {},
   "outputs": [],
   "source": [
    "df_p5[\"EnquiryMonth\"] = df_p5[\"enquiryDate\"].dt.to_period(\"M\")\n",
    "df_p5[\"BookingMonth\"] = df_p5[\"BookingDate\"].dt.to_period(\"M\")\n",
    "df_p5[\"InvoiceMonth\"] = df_p5[\"InvoiceDate\"].dt.to_period(\"M\")"
   ]
  },
  {
   "cell_type": "code",
   "execution_count": 46,
   "metadata": {},
   "outputs": [
    {
     "data": {
      "text/html": [
       "<div>\n",
       "<style scoped>\n",
       "    .dataframe tbody tr th:only-of-type {\n",
       "        vertical-align: middle;\n",
       "    }\n",
       "\n",
       "    .dataframe tbody tr th {\n",
       "        vertical-align: top;\n",
       "    }\n",
       "\n",
       "    .dataframe thead th {\n",
       "        text-align: right;\n",
       "    }\n",
       "</style>\n",
       "<table border=\"1\" class=\"dataframe\">\n",
       "  <thead>\n",
       "    <tr style=\"text-align: right;\">\n",
       "      <th></th>\n",
       "      <th>Enquiry_Quantity</th>\n",
       "      <th>Booking_Quantity</th>\n",
       "      <th>Invoice_Quantity</th>\n",
       "      <th>enquiryDate</th>\n",
       "      <th>BookingDate</th>\n",
       "      <th>InvoiceDate</th>\n",
       "      <th>StateName</th>\n",
       "      <th>Region</th>\n",
       "      <th>DealerId</th>\n",
       "      <th>DealerName</th>\n",
       "      <th>KVA_Id</th>\n",
       "      <th>EnquiryMonth</th>\n",
       "      <th>BookingMonth</th>\n",
       "      <th>InvoiceMonth</th>\n",
       "    </tr>\n",
       "  </thead>\n",
       "  <tbody>\n",
       "    <tr>\n",
       "      <th>303136</th>\n",
       "      <td>2</td>\n",
       "      <td>0.0</td>\n",
       "      <td>0</td>\n",
       "      <td>2020-06-25 00:00:00</td>\n",
       "      <td>NaT</td>\n",
       "      <td>NaT</td>\n",
       "      <td>NaN</td>\n",
       "      <td>NaN</td>\n",
       "      <td>230.0</td>\n",
       "      <td>Perfect Generators Technologies Pvt. Ltd.</td>\n",
       "      <td>P5</td>\n",
       "      <td>2020-06</td>\n",
       "      <td>NaT</td>\n",
       "      <td>NaT</td>\n",
       "    </tr>\n",
       "    <tr>\n",
       "      <th>303154</th>\n",
       "      <td>2</td>\n",
       "      <td>0.0</td>\n",
       "      <td>0</td>\n",
       "      <td>2023-11-25 13:18:00</td>\n",
       "      <td>NaT</td>\n",
       "      <td>NaT</td>\n",
       "      <td>NaN</td>\n",
       "      <td>NaN</td>\n",
       "      <td>448.0</td>\n",
       "      <td>P L Bagri &amp; Co</td>\n",
       "      <td>P5</td>\n",
       "      <td>2023-11</td>\n",
       "      <td>NaT</td>\n",
       "      <td>NaT</td>\n",
       "    </tr>\n",
       "    <tr>\n",
       "      <th>303197</th>\n",
       "      <td>2</td>\n",
       "      <td>0.0</td>\n",
       "      <td>0</td>\n",
       "      <td>2024-03-20 19:29:00</td>\n",
       "      <td>NaT</td>\n",
       "      <td>NaT</td>\n",
       "      <td>NaN</td>\n",
       "      <td>NaN</td>\n",
       "      <td>568.0</td>\n",
       "      <td>Power Elite</td>\n",
       "      <td>P5</td>\n",
       "      <td>2024-03</td>\n",
       "      <td>NaT</td>\n",
       "      <td>NaT</td>\n",
       "    </tr>\n",
       "    <tr>\n",
       "      <th>303232</th>\n",
       "      <td>2</td>\n",
       "      <td>0.0</td>\n",
       "      <td>0</td>\n",
       "      <td>2023-09-18 09:42:00</td>\n",
       "      <td>NaT</td>\n",
       "      <td>NaT</td>\n",
       "      <td>NaN</td>\n",
       "      <td>NaN</td>\n",
       "      <td>617.0</td>\n",
       "      <td>A J Industries</td>\n",
       "      <td>P5</td>\n",
       "      <td>2023-09</td>\n",
       "      <td>NaT</td>\n",
       "      <td>NaT</td>\n",
       "    </tr>\n",
       "    <tr>\n",
       "      <th>303237</th>\n",
       "      <td>2</td>\n",
       "      <td>0.0</td>\n",
       "      <td>0</td>\n",
       "      <td>2024-12-05 00:00:00</td>\n",
       "      <td>NaT</td>\n",
       "      <td>NaT</td>\n",
       "      <td>NaN</td>\n",
       "      <td>NaN</td>\n",
       "      <td>660.0</td>\n",
       "      <td>Advik Enterprises</td>\n",
       "      <td>P5</td>\n",
       "      <td>2024-12</td>\n",
       "      <td>NaT</td>\n",
       "      <td>NaT</td>\n",
       "    </tr>\n",
       "  </tbody>\n",
       "</table>\n",
       "</div>"
      ],
      "text/plain": [
       "        Enquiry_Quantity  Booking_Quantity  Invoice_Quantity  \\\n",
       "303136                 2               0.0                 0   \n",
       "303154                 2               0.0                 0   \n",
       "303197                 2               0.0                 0   \n",
       "303232                 2               0.0                 0   \n",
       "303237                 2               0.0                 0   \n",
       "\n",
       "               enquiryDate BookingDate InvoiceDate StateName Region  DealerId  \\\n",
       "303136 2020-06-25 00:00:00         NaT         NaT       NaN    NaN     230.0   \n",
       "303154 2023-11-25 13:18:00         NaT         NaT       NaN    NaN     448.0   \n",
       "303197 2024-03-20 19:29:00         NaT         NaT       NaN    NaN     568.0   \n",
       "303232 2023-09-18 09:42:00         NaT         NaT       NaN    NaN     617.0   \n",
       "303237 2024-12-05 00:00:00         NaT         NaT       NaN    NaN     660.0   \n",
       "\n",
       "                                       DealerName KVA_Id EnquiryMonth  \\\n",
       "303136  Perfect Generators Technologies Pvt. Ltd.     P5      2020-06   \n",
       "303154                             P L Bagri & Co     P5      2023-11   \n",
       "303197                                Power Elite     P5      2024-03   \n",
       "303232                             A J Industries     P5      2023-09   \n",
       "303237                          Advik Enterprises     P5      2024-12   \n",
       "\n",
       "       BookingMonth InvoiceMonth  \n",
       "303136          NaT          NaT  \n",
       "303154          NaT          NaT  \n",
       "303197          NaT          NaT  \n",
       "303232          NaT          NaT  \n",
       "303237          NaT          NaT  "
      ]
     },
     "execution_count": 46,
     "metadata": {},
     "output_type": "execute_result"
    }
   ],
   "source": [
    "df_p5.head()"
   ]
  },
  {
   "cell_type": "code",
   "execution_count": 48,
   "metadata": {},
   "outputs": [],
   "source": [
    "# Storing P5 datframe in \"data\\interim\"\n",
    "df_p5.to_pickle(r\"..\\data\\interim\\P5_data.pkl\")"
   ]
  },
  {
   "cell_type": "markdown",
   "metadata": {},
   "source": [
    "#### Aggregating Quantities separately (Enquiry, Booking, Invoices)\n"
   ]
  },
  {
   "cell_type": "code",
   "execution_count": 49,
   "metadata": {},
   "outputs": [],
   "source": [
    "df_f5 = pd.read_pickle(r\"..\\data\\interim\\P5_data.pkl\")"
   ]
  },
  {
   "cell_type": "code",
   "execution_count": 50,
   "metadata": {},
   "outputs": [],
   "source": [
    "agg_enquiry = (\n",
    "    df_p5.groupby([\"KVA_Id\", \"StateName\", \"Region\", \"EnquiryMonth\"])[\"Enquiry_Quantity\"]\n",
    "    .sum()\n",
    "    .reset_index()\n",
    ")\n",
    "agg_booking = (\n",
    "    df_p5.groupby([\"KVA_Id\", \"StateName\", \"Region\", \"BookingMonth\"])[\"Booking_Quantity\"]\n",
    "    .sum()\n",
    "    .reset_index()\n",
    ")\n",
    "agg_invoice = (\n",
    "    df_p5.groupby([\"KVA_Id\", \"StateName\", \"Region\", \"InvoiceMonth\"])[\"Invoice_Quantity\"]\n",
    "    .sum()\n",
    "    .reset_index()\n",
    ")"
   ]
  },
  {
   "cell_type": "markdown",
   "metadata": {},
   "source": [
    "#### Generating plots by State for P5 (path: \"reports\\figures\")\n"
   ]
  },
  {
   "cell_type": "code",
   "execution_count": 51,
   "metadata": {},
   "outputs": [
    {
     "name": "stdout",
     "output_type": "stream",
     "text": [
      "Processing:  Assam\n",
      "Processing:  Telangana\n",
      "Processing:  Gujarat\n",
      "Processing:  Nagaland\n",
      "Processing:  Rajasthan\n",
      "Processing:  Bihar\n",
      "Processing:  Maharashtra\n",
      "Processing:  Jharkhand\n",
      "Processing:  Uttar Pradesh\n",
      "Processing:  Meghalaya\n",
      "Processing:  Arunachal Pradesh\n",
      "Processing:  Andhra Pradesh\n",
      "Processing:  Karnataka\n",
      "Processing:  Tamil Nadu\n",
      "Processing:  Uttarakhand\n",
      "Processing:  Goa\n",
      "Processing:  Madhya Pradesh\n",
      "Processing:  Haryana\n",
      "Processing:  Mizoram\n",
      "Processing:  Jammu & Kashmir\n",
      "Processing:  Punjab\n",
      "Processing:  Kerala\n",
      "Processing:  Orissa\n",
      "Processing:  Andaman & Nicobar Islands\n",
      "Processing:  Puducherry\n",
      "Processing:  Tripura\n",
      "Processing:  Sikkim\n",
      "Processing:  Manipur\n",
      "Processing:  West Bengal\n",
      "Processing:  Himachal Pradesh\n",
      "Processing:  Delhi\n",
      "Processing:  Chandigarh\n",
      "Processing:  Chhattisgarh\n",
      "Processing:  Daman & Diu\n"
     ]
    }
   ],
   "source": [
    "for statename in df_p5[\"StateName\"].unique():\n",
    "    if pd.notna(statename):\n",
    "        print(\"Processing: \", statename)\n",
    "        visualize.plot_by_state(statename, agg_enquiry, agg_booking, agg_invoice)\n",
    "\n",
    "print(\"Finished Processing\")\n",
    "print(\"__________________________________________________\")"
   ]
  },
  {
   "cell_type": "markdown",
   "metadata": {},
   "source": [
    "#### Creating a combined_df by combining agg_enquiry, agg_booking, agg_invoice\n"
   ]
  },
  {
   "cell_type": "code",
   "execution_count": 84,
   "metadata": {},
   "outputs": [],
   "source": [
    "combined_df = pd.DataFrame()\n",
    "combined_df = pd.merge(\n",
    "    agg_enquiry,\n",
    "    agg_booking,\n",
    "    left_on=[\"KVA_Id\", \"StateName\", \"Region\", \"EnquiryMonth\"],\n",
    "    right_on=[\"KVA_Id\", \"StateName\", \"Region\", \"BookingMonth\"],\n",
    "    how=\"outer\",\n",
    ")\n",
    "combined_df = pd.merge(\n",
    "    combined_df,\n",
    "    agg_invoice,\n",
    "    left_on=[\"KVA_Id\", \"StateName\", \"Region\", \"EnquiryMonth\"],\n",
    "    right_on=[\"KVA_Id\", \"StateName\", \"Region\", \"InvoiceMonth\"],\n",
    "    how=\"outer\",\n",
    ")"
   ]
  },
  {
   "cell_type": "code",
   "execution_count": 85,
   "metadata": {},
   "outputs": [
    {
     "name": "stdout",
     "output_type": "stream",
     "text": [
      "Initial Data Types:\n",
      "EnquiryMonth    period[M]\n",
      "BookingMonth    period[M]\n",
      "InvoiceMonth    period[M]\n",
      "dtype: object\n",
      "\n",
      "Initial Missing Values in Each Column:\n",
      "EnquiryMonth     85\n",
      "BookingMonth    134\n",
      "InvoiceMonth    230\n",
      "dtype: int64\n",
      "\n",
      "Missing Values in YearMonth after filling with BookingMonth and InvoiceMonth:\n",
      "0\n",
      "\n",
      "Check YearMonth column types:\n",
      "[<class 'pandas._libs.tslibs.period.Period'>]\n",
      "\n",
      "Final Data Types:\n",
      "KVA_Id                 object\n",
      "StateName              object\n",
      "Region                 object\n",
      "EnquiryMonth        period[M]\n",
      "Enquiry_Quantity      float64\n",
      "BookingMonth        period[M]\n",
      "Booking_Quantity      float64\n",
      "InvoiceMonth        period[M]\n",
      "Invoice_Quantity      float64\n",
      "YearMonth           period[M]\n",
      "dtype: object\n",
      "\n",
      "Sample of the final dataframe:\n",
      "  KVA_Id                  StateName Region EnquiryMonth  Enquiry_Quantity  \\\n",
      "0     P5  Andaman & Nicobar Islands  South      2023-03               2.0   \n",
      "1     P5  Andaman & Nicobar Islands  South      2023-06               1.0   \n",
      "2     P5  Andaman & Nicobar Islands  South      2023-08               1.0   \n",
      "3     P5  Andaman & Nicobar Islands  South      2023-11               2.0   \n",
      "4     P5  Andaman & Nicobar Islands  South      2023-12               2.0   \n",
      "\n",
      "  BookingMonth  Booking_Quantity InvoiceMonth  Invoice_Quantity YearMonth  \n",
      "0      2023-03               2.0      2023-03               2.0   2023-03  \n",
      "1      2023-06               1.0      2023-06               1.0   2023-06  \n",
      "2      2023-08               1.0          NaT               0.0   2023-08  \n",
      "3      2023-11               2.0          NaT               0.0   2023-11  \n",
      "4      2023-12               2.0          NaT               0.0   2023-12  \n",
      "\n",
      "Check YearMonth column types:\n",
      "[<class 'pandas._libs.tslibs.period.Period'>]\n"
     ]
    }
   ],
   "source": [
    "# Fill missing values in numeric columns with 0 but not for YearMonth\n",
    "combined_df.fillna(\n",
    "    {\n",
    "        \"Enquiry_Quantity\": 0,\n",
    "        \"Booking_Quantity\": 0,\n",
    "        \"Invoice_Quantity\": 0,\n",
    "    },\n",
    "    inplace=True,\n",
    ")\n",
    "\n",
    "# Check initial data types and missing values in the month columns\n",
    "print(\"Initial Data Types:\")\n",
    "print(combined_df[[\"EnquiryMonth\", \"BookingMonth\", \"InvoiceMonth\"]].dtypes)\n",
    "\n",
    "print(\"\\nInitial Missing Values in Each Column:\")\n",
    "print(combined_df[[\"EnquiryMonth\", \"BookingMonth\", \"InvoiceMonth\"]].isnull().sum())\n",
    "\n",
    "# Step 1: Populate YearMonth based on the available period[M] columns in priority order\n",
    "# Copy EnquiryMonth to YearMonth, filling missing values with BookingMonth first\n",
    "combined_df[\"YearMonth\"] = combined_df[\"EnquiryMonth\"].copy()\n",
    "\n",
    "# Fill missing YearMonth with BookingMonth\n",
    "combined_df[\"YearMonth\"] = combined_df[\"YearMonth\"].fillna(combined_df[\"BookingMonth\"])\n",
    "\n",
    "# Fill any remaining missing YearMonth with InvoiceMonth\n",
    "combined_df[\"YearMonth\"] = combined_df[\"YearMonth\"].fillna(combined_df[\"InvoiceMonth\"])\n",
    "\n",
    "# Check how many missing values remain after filling\n",
    "print(\"\\nMissing Values in YearMonth after filling with BookingMonth and InvoiceMonth:\")\n",
    "print(combined_df[\"YearMonth\"].isnull().sum())\n",
    "\n",
    "# Ensure YearMonth is still in period[M] format\n",
    "print(\"\\nCheck YearMonth column types:\")\n",
    "print(combined_df[\"YearMonth\"].apply(type).unique())\n",
    "\n",
    "# Final check for data types and nulls\n",
    "print(\"\\nFinal Data Types:\")\n",
    "print(combined_df.dtypes)\n",
    "\n",
    "print(\"\\nSample of the final dataframe:\")\n",
    "print(combined_df.head())\n",
    "\n",
    "# Check the YearMonth column types after conversion\n",
    "print(\"\\nCheck YearMonth column types:\")\n",
    "print(combined_df[\"YearMonth\"].apply(type).unique())\n",
    "\n",
    "combined_df.drop(columns=[\"EnquiryMonth\", \"BookingMonth\", \"InvoiceMonth\"], inplace=True)"
   ]
  },
  {
   "cell_type": "code",
   "execution_count": 86,
   "metadata": {},
   "outputs": [
    {
     "name": "stdout",
     "output_type": "stream",
     "text": [
      "<class 'pandas.core.frame.DataFrame'>\n",
      "RangeIndex: 1900 entries, 0 to 1899\n",
      "Data columns (total 7 columns):\n",
      " #   Column            Non-Null Count  Dtype    \n",
      "---  ------            --------------  -----    \n",
      " 0   KVA_Id            1900 non-null   object   \n",
      " 1   StateName         1900 non-null   object   \n",
      " 2   Region            1900 non-null   object   \n",
      " 3   Enquiry_Quantity  1900 non-null   float64  \n",
      " 4   Booking_Quantity  1900 non-null   float64  \n",
      " 5   Invoice_Quantity  1900 non-null   float64  \n",
      " 6   YearMonth         1900 non-null   period[M]\n",
      "dtypes: float64(3), object(3), period[M](1)\n",
      "memory usage: 104.0+ KB\n"
     ]
    }
   ],
   "source": [
    "combined_df.info()"
   ]
  },
  {
   "cell_type": "code",
   "execution_count": 87,
   "metadata": {},
   "outputs": [
    {
     "data": {
      "text/html": [
       "<div>\n",
       "<style scoped>\n",
       "    .dataframe tbody tr th:only-of-type {\n",
       "        vertical-align: middle;\n",
       "    }\n",
       "\n",
       "    .dataframe tbody tr th {\n",
       "        vertical-align: top;\n",
       "    }\n",
       "\n",
       "    .dataframe thead th {\n",
       "        text-align: right;\n",
       "    }\n",
       "</style>\n",
       "<table border=\"1\" class=\"dataframe\">\n",
       "  <thead>\n",
       "    <tr style=\"text-align: right;\">\n",
       "      <th></th>\n",
       "      <th>KVA_Id</th>\n",
       "      <th>StateName</th>\n",
       "      <th>Region</th>\n",
       "      <th>Enquiry_Quantity</th>\n",
       "      <th>Booking_Quantity</th>\n",
       "      <th>Invoice_Quantity</th>\n",
       "      <th>YearMonth</th>\n",
       "    </tr>\n",
       "  </thead>\n",
       "  <tbody>\n",
       "    <tr>\n",
       "      <th>0</th>\n",
       "      <td>P5</td>\n",
       "      <td>Andaman &amp; Nicobar Islands</td>\n",
       "      <td>South</td>\n",
       "      <td>2.0</td>\n",
       "      <td>2.0</td>\n",
       "      <td>2.0</td>\n",
       "      <td>2023-03</td>\n",
       "    </tr>\n",
       "    <tr>\n",
       "      <th>1</th>\n",
       "      <td>P5</td>\n",
       "      <td>Andaman &amp; Nicobar Islands</td>\n",
       "      <td>South</td>\n",
       "      <td>1.0</td>\n",
       "      <td>1.0</td>\n",
       "      <td>1.0</td>\n",
       "      <td>2023-06</td>\n",
       "    </tr>\n",
       "    <tr>\n",
       "      <th>2</th>\n",
       "      <td>P5</td>\n",
       "      <td>Andaman &amp; Nicobar Islands</td>\n",
       "      <td>South</td>\n",
       "      <td>1.0</td>\n",
       "      <td>1.0</td>\n",
       "      <td>0.0</td>\n",
       "      <td>2023-08</td>\n",
       "    </tr>\n",
       "    <tr>\n",
       "      <th>3</th>\n",
       "      <td>P5</td>\n",
       "      <td>Andaman &amp; Nicobar Islands</td>\n",
       "      <td>South</td>\n",
       "      <td>2.0</td>\n",
       "      <td>2.0</td>\n",
       "      <td>0.0</td>\n",
       "      <td>2023-11</td>\n",
       "    </tr>\n",
       "    <tr>\n",
       "      <th>4</th>\n",
       "      <td>P5</td>\n",
       "      <td>Andaman &amp; Nicobar Islands</td>\n",
       "      <td>South</td>\n",
       "      <td>2.0</td>\n",
       "      <td>2.0</td>\n",
       "      <td>0.0</td>\n",
       "      <td>2023-12</td>\n",
       "    </tr>\n",
       "    <tr>\n",
       "      <th>5</th>\n",
       "      <td>P5</td>\n",
       "      <td>Andaman &amp; Nicobar Islands</td>\n",
       "      <td>South</td>\n",
       "      <td>1.0</td>\n",
       "      <td>0.0</td>\n",
       "      <td>0.0</td>\n",
       "      <td>2024-02</td>\n",
       "    </tr>\n",
       "    <tr>\n",
       "      <th>6</th>\n",
       "      <td>P5</td>\n",
       "      <td>Andaman &amp; Nicobar Islands</td>\n",
       "      <td>South</td>\n",
       "      <td>2.0</td>\n",
       "      <td>2.0</td>\n",
       "      <td>0.0</td>\n",
       "      <td>2024-03</td>\n",
       "    </tr>\n",
       "    <tr>\n",
       "      <th>7</th>\n",
       "      <td>P5</td>\n",
       "      <td>Andaman &amp; Nicobar Islands</td>\n",
       "      <td>South</td>\n",
       "      <td>2.0</td>\n",
       "      <td>3.0</td>\n",
       "      <td>0.0</td>\n",
       "      <td>2024-04</td>\n",
       "    </tr>\n",
       "    <tr>\n",
       "      <th>8</th>\n",
       "      <td>P5</td>\n",
       "      <td>Andaman &amp; Nicobar Islands</td>\n",
       "      <td>South</td>\n",
       "      <td>1.0</td>\n",
       "      <td>1.0</td>\n",
       "      <td>0.0</td>\n",
       "      <td>2024-10</td>\n",
       "    </tr>\n",
       "    <tr>\n",
       "      <th>9</th>\n",
       "      <td>P5</td>\n",
       "      <td>Andaman &amp; Nicobar Islands</td>\n",
       "      <td>South</td>\n",
       "      <td>1.0</td>\n",
       "      <td>1.0</td>\n",
       "      <td>0.0</td>\n",
       "      <td>2024-12</td>\n",
       "    </tr>\n",
       "    <tr>\n",
       "      <th>10</th>\n",
       "      <td>P5</td>\n",
       "      <td>Andhra Pradesh</td>\n",
       "      <td>South</td>\n",
       "      <td>1.0</td>\n",
       "      <td>0.0</td>\n",
       "      <td>0.0</td>\n",
       "      <td>2018-11</td>\n",
       "    </tr>\n",
       "    <tr>\n",
       "      <th>11</th>\n",
       "      <td>P5</td>\n",
       "      <td>Andhra Pradesh</td>\n",
       "      <td>South</td>\n",
       "      <td>2.0</td>\n",
       "      <td>0.0</td>\n",
       "      <td>0.0</td>\n",
       "      <td>2018-12</td>\n",
       "    </tr>\n",
       "    <tr>\n",
       "      <th>12</th>\n",
       "      <td>P5</td>\n",
       "      <td>Andhra Pradesh</td>\n",
       "      <td>South</td>\n",
       "      <td>1.0</td>\n",
       "      <td>1.0</td>\n",
       "      <td>0.0</td>\n",
       "      <td>2019-01</td>\n",
       "    </tr>\n",
       "    <tr>\n",
       "      <th>13</th>\n",
       "      <td>P5</td>\n",
       "      <td>Andhra Pradesh</td>\n",
       "      <td>South</td>\n",
       "      <td>15.0</td>\n",
       "      <td>17.0</td>\n",
       "      <td>0.0</td>\n",
       "      <td>2019-02</td>\n",
       "    </tr>\n",
       "    <tr>\n",
       "      <th>14</th>\n",
       "      <td>P5</td>\n",
       "      <td>Andhra Pradesh</td>\n",
       "      <td>South</td>\n",
       "      <td>21.0</td>\n",
       "      <td>22.0</td>\n",
       "      <td>0.0</td>\n",
       "      <td>2019-03</td>\n",
       "    </tr>\n",
       "    <tr>\n",
       "      <th>15</th>\n",
       "      <td>P5</td>\n",
       "      <td>Andhra Pradesh</td>\n",
       "      <td>South</td>\n",
       "      <td>4.0</td>\n",
       "      <td>3.0</td>\n",
       "      <td>2.0</td>\n",
       "      <td>2019-04</td>\n",
       "    </tr>\n",
       "    <tr>\n",
       "      <th>16</th>\n",
       "      <td>P5</td>\n",
       "      <td>Andhra Pradesh</td>\n",
       "      <td>South</td>\n",
       "      <td>8.0</td>\n",
       "      <td>9.0</td>\n",
       "      <td>2.0</td>\n",
       "      <td>2019-05</td>\n",
       "    </tr>\n",
       "    <tr>\n",
       "      <th>17</th>\n",
       "      <td>P5</td>\n",
       "      <td>Andhra Pradesh</td>\n",
       "      <td>South</td>\n",
       "      <td>18.0</td>\n",
       "      <td>17.0</td>\n",
       "      <td>8.0</td>\n",
       "      <td>2019-06</td>\n",
       "    </tr>\n",
       "    <tr>\n",
       "      <th>18</th>\n",
       "      <td>P5</td>\n",
       "      <td>Andhra Pradesh</td>\n",
       "      <td>South</td>\n",
       "      <td>10.0</td>\n",
       "      <td>11.0</td>\n",
       "      <td>7.0</td>\n",
       "      <td>2019-07</td>\n",
       "    </tr>\n",
       "    <tr>\n",
       "      <th>19</th>\n",
       "      <td>P5</td>\n",
       "      <td>Andhra Pradesh</td>\n",
       "      <td>South</td>\n",
       "      <td>6.0</td>\n",
       "      <td>5.0</td>\n",
       "      <td>4.0</td>\n",
       "      <td>2019-08</td>\n",
       "    </tr>\n",
       "  </tbody>\n",
       "</table>\n",
       "</div>"
      ],
      "text/plain": [
       "   KVA_Id                  StateName Region  Enquiry_Quantity  \\\n",
       "0      P5  Andaman & Nicobar Islands  South               2.0   \n",
       "1      P5  Andaman & Nicobar Islands  South               1.0   \n",
       "2      P5  Andaman & Nicobar Islands  South               1.0   \n",
       "3      P5  Andaman & Nicobar Islands  South               2.0   \n",
       "4      P5  Andaman & Nicobar Islands  South               2.0   \n",
       "5      P5  Andaman & Nicobar Islands  South               1.0   \n",
       "6      P5  Andaman & Nicobar Islands  South               2.0   \n",
       "7      P5  Andaman & Nicobar Islands  South               2.0   \n",
       "8      P5  Andaman & Nicobar Islands  South               1.0   \n",
       "9      P5  Andaman & Nicobar Islands  South               1.0   \n",
       "10     P5             Andhra Pradesh  South               1.0   \n",
       "11     P5             Andhra Pradesh  South               2.0   \n",
       "12     P5             Andhra Pradesh  South               1.0   \n",
       "13     P5             Andhra Pradesh  South              15.0   \n",
       "14     P5             Andhra Pradesh  South              21.0   \n",
       "15     P5             Andhra Pradesh  South               4.0   \n",
       "16     P5             Andhra Pradesh  South               8.0   \n",
       "17     P5             Andhra Pradesh  South              18.0   \n",
       "18     P5             Andhra Pradesh  South              10.0   \n",
       "19     P5             Andhra Pradesh  South               6.0   \n",
       "\n",
       "    Booking_Quantity  Invoice_Quantity YearMonth  \n",
       "0                2.0               2.0   2023-03  \n",
       "1                1.0               1.0   2023-06  \n",
       "2                1.0               0.0   2023-08  \n",
       "3                2.0               0.0   2023-11  \n",
       "4                2.0               0.0   2023-12  \n",
       "5                0.0               0.0   2024-02  \n",
       "6                2.0               0.0   2024-03  \n",
       "7                3.0               0.0   2024-04  \n",
       "8                1.0               0.0   2024-10  \n",
       "9                1.0               0.0   2024-12  \n",
       "10               0.0               0.0   2018-11  \n",
       "11               0.0               0.0   2018-12  \n",
       "12               1.0               0.0   2019-01  \n",
       "13              17.0               0.0   2019-02  \n",
       "14              22.0               0.0   2019-03  \n",
       "15               3.0               2.0   2019-04  \n",
       "16               9.0               2.0   2019-05  \n",
       "17              17.0               8.0   2019-06  \n",
       "18              11.0               7.0   2019-07  \n",
       "19               5.0               4.0   2019-08  "
      ]
     },
     "execution_count": 87,
     "metadata": {},
     "output_type": "execute_result"
    }
   ],
   "source": [
    "combined_df.head(20)"
   ]
  },
  {
   "cell_type": "code",
   "execution_count": 88,
   "metadata": {},
   "outputs": [
    {
     "data": {
      "text/plain": [
       "KVA_Id              0\n",
       "StateName           0\n",
       "Region              0\n",
       "Enquiry_Quantity    0\n",
       "Booking_Quantity    0\n",
       "Invoice_Quantity    0\n",
       "YearMonth           0\n",
       "dtype: int64"
      ]
     },
     "execution_count": 88,
     "metadata": {},
     "output_type": "execute_result"
    }
   ],
   "source": [
    "combined_df.isnull().sum()"
   ]
  },
  {
   "cell_type": "code",
   "execution_count": 89,
   "metadata": {},
   "outputs": [],
   "source": [
    "combined_df.to_pickle(r\"..\\data\\interim\\combined_data.pkl\")"
   ]
  },
  {
   "cell_type": "markdown",
   "metadata": {},
   "source": [
    "# Feature Engineering\n"
   ]
  },
  {
   "cell_type": "markdown",
   "metadata": {},
   "source": [
    "### 0. Reading the Combined_Data\n"
   ]
  },
  {
   "cell_type": "code",
   "execution_count": 285,
   "metadata": {},
   "outputs": [],
   "source": [
    "combined_df = pd.read_pickle(r\"..\\data\\interim\\combined_data.pkl\")"
   ]
  },
  {
   "cell_type": "markdown",
   "metadata": {},
   "source": [
    "#### Preprocessing\n"
   ]
  },
  {
   "cell_type": "code",
   "execution_count": 286,
   "metadata": {},
   "outputs": [],
   "source": [
    "combined_df = combined_df.drop(columns=[\"Region\"])\n",
    "combined_df.sort_values(by=[\"KVA_Id\", \"StateName\", \"YearMonth\"], inplace=True)"
   ]
  },
  {
   "cell_type": "code",
   "execution_count": 287,
   "metadata": {},
   "outputs": [
    {
     "data": {
      "text/html": [
       "<div>\n",
       "<style scoped>\n",
       "    .dataframe tbody tr th:only-of-type {\n",
       "        vertical-align: middle;\n",
       "    }\n",
       "\n",
       "    .dataframe tbody tr th {\n",
       "        vertical-align: top;\n",
       "    }\n",
       "\n",
       "    .dataframe thead th {\n",
       "        text-align: right;\n",
       "    }\n",
       "</style>\n",
       "<table border=\"1\" class=\"dataframe\">\n",
       "  <thead>\n",
       "    <tr style=\"text-align: right;\">\n",
       "      <th></th>\n",
       "      <th>KVA_Id</th>\n",
       "      <th>StateName</th>\n",
       "      <th>Enquiry_Quantity</th>\n",
       "      <th>Booking_Quantity</th>\n",
       "      <th>Invoice_Quantity</th>\n",
       "      <th>YearMonth</th>\n",
       "    </tr>\n",
       "  </thead>\n",
       "  <tbody>\n",
       "    <tr>\n",
       "      <th>0</th>\n",
       "      <td>P5</td>\n",
       "      <td>Andaman &amp; Nicobar Islands</td>\n",
       "      <td>2.0</td>\n",
       "      <td>2.0</td>\n",
       "      <td>2.0</td>\n",
       "      <td>2023-03</td>\n",
       "    </tr>\n",
       "    <tr>\n",
       "      <th>1</th>\n",
       "      <td>P5</td>\n",
       "      <td>Andaman &amp; Nicobar Islands</td>\n",
       "      <td>1.0</td>\n",
       "      <td>1.0</td>\n",
       "      <td>1.0</td>\n",
       "      <td>2023-06</td>\n",
       "    </tr>\n",
       "    <tr>\n",
       "      <th>2</th>\n",
       "      <td>P5</td>\n",
       "      <td>Andaman &amp; Nicobar Islands</td>\n",
       "      <td>1.0</td>\n",
       "      <td>1.0</td>\n",
       "      <td>0.0</td>\n",
       "      <td>2023-08</td>\n",
       "    </tr>\n",
       "    <tr>\n",
       "      <th>3</th>\n",
       "      <td>P5</td>\n",
       "      <td>Andaman &amp; Nicobar Islands</td>\n",
       "      <td>2.0</td>\n",
       "      <td>2.0</td>\n",
       "      <td>0.0</td>\n",
       "      <td>2023-11</td>\n",
       "    </tr>\n",
       "    <tr>\n",
       "      <th>4</th>\n",
       "      <td>P5</td>\n",
       "      <td>Andaman &amp; Nicobar Islands</td>\n",
       "      <td>2.0</td>\n",
       "      <td>2.0</td>\n",
       "      <td>0.0</td>\n",
       "      <td>2023-12</td>\n",
       "    </tr>\n",
       "    <tr>\n",
       "      <th>5</th>\n",
       "      <td>P5</td>\n",
       "      <td>Andaman &amp; Nicobar Islands</td>\n",
       "      <td>1.0</td>\n",
       "      <td>0.0</td>\n",
       "      <td>0.0</td>\n",
       "      <td>2024-02</td>\n",
       "    </tr>\n",
       "    <tr>\n",
       "      <th>6</th>\n",
       "      <td>P5</td>\n",
       "      <td>Andaman &amp; Nicobar Islands</td>\n",
       "      <td>2.0</td>\n",
       "      <td>2.0</td>\n",
       "      <td>0.0</td>\n",
       "      <td>2024-03</td>\n",
       "    </tr>\n",
       "    <tr>\n",
       "      <th>7</th>\n",
       "      <td>P5</td>\n",
       "      <td>Andaman &amp; Nicobar Islands</td>\n",
       "      <td>2.0</td>\n",
       "      <td>3.0</td>\n",
       "      <td>0.0</td>\n",
       "      <td>2024-04</td>\n",
       "    </tr>\n",
       "    <tr>\n",
       "      <th>8</th>\n",
       "      <td>P5</td>\n",
       "      <td>Andaman &amp; Nicobar Islands</td>\n",
       "      <td>1.0</td>\n",
       "      <td>1.0</td>\n",
       "      <td>0.0</td>\n",
       "      <td>2024-10</td>\n",
       "    </tr>\n",
       "    <tr>\n",
       "      <th>9</th>\n",
       "      <td>P5</td>\n",
       "      <td>Andaman &amp; Nicobar Islands</td>\n",
       "      <td>1.0</td>\n",
       "      <td>1.0</td>\n",
       "      <td>0.0</td>\n",
       "      <td>2024-12</td>\n",
       "    </tr>\n",
       "    <tr>\n",
       "      <th>10</th>\n",
       "      <td>P5</td>\n",
       "      <td>Andhra Pradesh</td>\n",
       "      <td>1.0</td>\n",
       "      <td>0.0</td>\n",
       "      <td>0.0</td>\n",
       "      <td>2018-11</td>\n",
       "    </tr>\n",
       "    <tr>\n",
       "      <th>11</th>\n",
       "      <td>P5</td>\n",
       "      <td>Andhra Pradesh</td>\n",
       "      <td>2.0</td>\n",
       "      <td>0.0</td>\n",
       "      <td>0.0</td>\n",
       "      <td>2018-12</td>\n",
       "    </tr>\n",
       "    <tr>\n",
       "      <th>12</th>\n",
       "      <td>P5</td>\n",
       "      <td>Andhra Pradesh</td>\n",
       "      <td>1.0</td>\n",
       "      <td>1.0</td>\n",
       "      <td>0.0</td>\n",
       "      <td>2019-01</td>\n",
       "    </tr>\n",
       "    <tr>\n",
       "      <th>13</th>\n",
       "      <td>P5</td>\n",
       "      <td>Andhra Pradesh</td>\n",
       "      <td>15.0</td>\n",
       "      <td>17.0</td>\n",
       "      <td>0.0</td>\n",
       "      <td>2019-02</td>\n",
       "    </tr>\n",
       "    <tr>\n",
       "      <th>14</th>\n",
       "      <td>P5</td>\n",
       "      <td>Andhra Pradesh</td>\n",
       "      <td>21.0</td>\n",
       "      <td>22.0</td>\n",
       "      <td>0.0</td>\n",
       "      <td>2019-03</td>\n",
       "    </tr>\n",
       "    <tr>\n",
       "      <th>15</th>\n",
       "      <td>P5</td>\n",
       "      <td>Andhra Pradesh</td>\n",
       "      <td>4.0</td>\n",
       "      <td>3.0</td>\n",
       "      <td>2.0</td>\n",
       "      <td>2019-04</td>\n",
       "    </tr>\n",
       "    <tr>\n",
       "      <th>16</th>\n",
       "      <td>P5</td>\n",
       "      <td>Andhra Pradesh</td>\n",
       "      <td>8.0</td>\n",
       "      <td>9.0</td>\n",
       "      <td>2.0</td>\n",
       "      <td>2019-05</td>\n",
       "    </tr>\n",
       "    <tr>\n",
       "      <th>17</th>\n",
       "      <td>P5</td>\n",
       "      <td>Andhra Pradesh</td>\n",
       "      <td>18.0</td>\n",
       "      <td>17.0</td>\n",
       "      <td>8.0</td>\n",
       "      <td>2019-06</td>\n",
       "    </tr>\n",
       "    <tr>\n",
       "      <th>18</th>\n",
       "      <td>P5</td>\n",
       "      <td>Andhra Pradesh</td>\n",
       "      <td>10.0</td>\n",
       "      <td>11.0</td>\n",
       "      <td>7.0</td>\n",
       "      <td>2019-07</td>\n",
       "    </tr>\n",
       "    <tr>\n",
       "      <th>19</th>\n",
       "      <td>P5</td>\n",
       "      <td>Andhra Pradesh</td>\n",
       "      <td>6.0</td>\n",
       "      <td>5.0</td>\n",
       "      <td>4.0</td>\n",
       "      <td>2019-08</td>\n",
       "    </tr>\n",
       "  </tbody>\n",
       "</table>\n",
       "</div>"
      ],
      "text/plain": [
       "   KVA_Id                  StateName  Enquiry_Quantity  Booking_Quantity  \\\n",
       "0      P5  Andaman & Nicobar Islands               2.0               2.0   \n",
       "1      P5  Andaman & Nicobar Islands               1.0               1.0   \n",
       "2      P5  Andaman & Nicobar Islands               1.0               1.0   \n",
       "3      P5  Andaman & Nicobar Islands               2.0               2.0   \n",
       "4      P5  Andaman & Nicobar Islands               2.0               2.0   \n",
       "5      P5  Andaman & Nicobar Islands               1.0               0.0   \n",
       "6      P5  Andaman & Nicobar Islands               2.0               2.0   \n",
       "7      P5  Andaman & Nicobar Islands               2.0               3.0   \n",
       "8      P5  Andaman & Nicobar Islands               1.0               1.0   \n",
       "9      P5  Andaman & Nicobar Islands               1.0               1.0   \n",
       "10     P5             Andhra Pradesh               1.0               0.0   \n",
       "11     P5             Andhra Pradesh               2.0               0.0   \n",
       "12     P5             Andhra Pradesh               1.0               1.0   \n",
       "13     P5             Andhra Pradesh              15.0              17.0   \n",
       "14     P5             Andhra Pradesh              21.0              22.0   \n",
       "15     P5             Andhra Pradesh               4.0               3.0   \n",
       "16     P5             Andhra Pradesh               8.0               9.0   \n",
       "17     P5             Andhra Pradesh              18.0              17.0   \n",
       "18     P5             Andhra Pradesh              10.0              11.0   \n",
       "19     P5             Andhra Pradesh               6.0               5.0   \n",
       "\n",
       "    Invoice_Quantity YearMonth  \n",
       "0                2.0   2023-03  \n",
       "1                1.0   2023-06  \n",
       "2                0.0   2023-08  \n",
       "3                0.0   2023-11  \n",
       "4                0.0   2023-12  \n",
       "5                0.0   2024-02  \n",
       "6                0.0   2024-03  \n",
       "7                0.0   2024-04  \n",
       "8                0.0   2024-10  \n",
       "9                0.0   2024-12  \n",
       "10               0.0   2018-11  \n",
       "11               0.0   2018-12  \n",
       "12               0.0   2019-01  \n",
       "13               0.0   2019-02  \n",
       "14               0.0   2019-03  \n",
       "15               2.0   2019-04  \n",
       "16               2.0   2019-05  \n",
       "17               8.0   2019-06  \n",
       "18               7.0   2019-07  \n",
       "19               4.0   2019-08  "
      ]
     },
     "execution_count": 287,
     "metadata": {},
     "output_type": "execute_result"
    }
   ],
   "source": [
    "combined_df.head(20)"
   ]
  },
  {
   "cell_type": "markdown",
   "metadata": {},
   "source": [
    "#### Defining parameters and methods\n"
   ]
  },
  {
   "cell_type": "code",
   "execution_count": 288,
   "metadata": {},
   "outputs": [],
   "source": [
    "def fill_missing_months(df):\n",
    "    # Ensure that 'YearMonth' is a Timestamp\n",
    "    if df[\"YearMonth\"].dtype.name == \"period[M]\":\n",
    "        df[\"YearMonth\"] = df[\"YearMonth\"].dt.to_timestamp()\n",
    "\n",
    "    # Get the minimum and maximum dates per group\n",
    "    min_date = df[\"YearMonth\"].min()\n",
    "    max_date = df[\"YearMonth\"].max()\n",
    "\n",
    "    all_dates = pd.date_range(min_date, max_date, freq=\"ME\").to_period(\"M\")\n",
    "\n",
    "    # Step 2: Create a DataFrame for the continuous YearMonth\n",
    "    all_dates_df = pd.DataFrame(all_dates, columns=[\"YearMonth\"])\n",
    "\n",
    "    if df[\"YearMonth\"].dtype.name == \"datetime64[ns]\":\n",
    "        # Convert back to Period[M] if it's a timestamp\n",
    "        df[\"YearMonth\"] = df[\"YearMonth\"].dt.to_period(\"M\")\n",
    "\n",
    "    # Step 3: Merge with the original data\n",
    "    df_merged = pd.merge(all_dates_df, df, on=\"YearMonth\", how=\"left\")\n",
    "\n",
    "    # Step 4: Forward fill KVA_Id and StateName for the newly created rows\n",
    "    df_merged[\"KVA_Id\"] = df_merged[\"KVA_Id\"].ffill()\n",
    "    df_merged[\"StateName\"] = df_merged[\"StateName\"].ffill()\n",
    "\n",
    "    # Step 5: Fill NaN values in other columns with 0 (e.g., for Sales)\n",
    "    df_merged.fillna(0, inplace=True)\n",
    "\n",
    "    return df_merged\n",
    "\n",
    "    # return df"
   ]
  },
  {
   "cell_type": "code",
   "execution_count": 289,
   "metadata": {},
   "outputs": [],
   "source": [
    "grouped = combined_df.groupby([\"KVA_Id\", \"StateName\"])\n",
    "\n",
    "results = []\n",
    "for name, group in grouped:\n",
    "    filled_group = fill_missing_months(group)\n",
    "    # Add back the group columns\n",
    "    filled_group[\"KVA_Id\"] = name[0]\n",
    "    filled_group[\"StateName\"] = name[1]\n",
    "    results.append(filled_group)\n",
    "\n",
    "# Concatenate the results into the final DataFrame\n",
    "combined_df_filled = pd.concat(results).reset_index(drop=True)"
   ]
  },
  {
   "cell_type": "code",
   "execution_count": 293,
   "metadata": {},
   "outputs": [
    {
     "data": {
      "text/html": [
       "<div>\n",
       "<style scoped>\n",
       "    .dataframe tbody tr th:only-of-type {\n",
       "        vertical-align: middle;\n",
       "    }\n",
       "\n",
       "    .dataframe tbody tr th {\n",
       "        vertical-align: top;\n",
       "    }\n",
       "\n",
       "    .dataframe thead th {\n",
       "        text-align: right;\n",
       "    }\n",
       "</style>\n",
       "<table border=\"1\" class=\"dataframe\">\n",
       "  <thead>\n",
       "    <tr style=\"text-align: right;\">\n",
       "      <th></th>\n",
       "      <th>YearMonth</th>\n",
       "      <th>KVA_Id</th>\n",
       "      <th>StateName</th>\n",
       "      <th>Enquiry_Quantity</th>\n",
       "      <th>Booking_Quantity</th>\n",
       "      <th>Invoice_Quantity</th>\n",
       "      <th>Enquiry_Quantity_lag1</th>\n",
       "      <th>Enquiry_Quantity_lag2</th>\n",
       "      <th>Enquiry_Quantity_lag3</th>\n",
       "      <th>Booking_Quantity_lag1</th>\n",
       "      <th>Booking_Quantity_lag2</th>\n",
       "      <th>Booking_Quantity_lag3</th>\n",
       "      <th>Invoice_Quantity_lag1</th>\n",
       "      <th>Invoice_Quantity_lag2</th>\n",
       "      <th>Invoice_Quantity_lag3</th>\n",
       "    </tr>\n",
       "  </thead>\n",
       "  <tbody>\n",
       "    <tr>\n",
       "      <th>0</th>\n",
       "      <td>2023-03</td>\n",
       "      <td>P5</td>\n",
       "      <td>Andaman &amp; Nicobar Islands</td>\n",
       "      <td>2.0</td>\n",
       "      <td>2.0</td>\n",
       "      <td>2.0</td>\n",
       "      <td>NaN</td>\n",
       "      <td>NaN</td>\n",
       "      <td>NaN</td>\n",
       "      <td>NaN</td>\n",
       "      <td>NaN</td>\n",
       "      <td>NaN</td>\n",
       "      <td>NaN</td>\n",
       "      <td>NaN</td>\n",
       "      <td>NaN</td>\n",
       "    </tr>\n",
       "    <tr>\n",
       "      <th>1</th>\n",
       "      <td>2023-04</td>\n",
       "      <td>P5</td>\n",
       "      <td>Andaman &amp; Nicobar Islands</td>\n",
       "      <td>0.0</td>\n",
       "      <td>0.0</td>\n",
       "      <td>0.0</td>\n",
       "      <td>2.0</td>\n",
       "      <td>NaN</td>\n",
       "      <td>NaN</td>\n",
       "      <td>2.0</td>\n",
       "      <td>NaN</td>\n",
       "      <td>NaN</td>\n",
       "      <td>2.0</td>\n",
       "      <td>NaN</td>\n",
       "      <td>NaN</td>\n",
       "    </tr>\n",
       "    <tr>\n",
       "      <th>2</th>\n",
       "      <td>2023-05</td>\n",
       "      <td>P5</td>\n",
       "      <td>Andaman &amp; Nicobar Islands</td>\n",
       "      <td>0.0</td>\n",
       "      <td>0.0</td>\n",
       "      <td>0.0</td>\n",
       "      <td>0.0</td>\n",
       "      <td>2.0</td>\n",
       "      <td>NaN</td>\n",
       "      <td>0.0</td>\n",
       "      <td>2.0</td>\n",
       "      <td>NaN</td>\n",
       "      <td>0.0</td>\n",
       "      <td>2.0</td>\n",
       "      <td>NaN</td>\n",
       "    </tr>\n",
       "    <tr>\n",
       "      <th>3</th>\n",
       "      <td>2023-06</td>\n",
       "      <td>P5</td>\n",
       "      <td>Andaman &amp; Nicobar Islands</td>\n",
       "      <td>1.0</td>\n",
       "      <td>1.0</td>\n",
       "      <td>1.0</td>\n",
       "      <td>0.0</td>\n",
       "      <td>0.0</td>\n",
       "      <td>2.0</td>\n",
       "      <td>0.0</td>\n",
       "      <td>0.0</td>\n",
       "      <td>2.0</td>\n",
       "      <td>0.0</td>\n",
       "      <td>0.0</td>\n",
       "      <td>2.0</td>\n",
       "    </tr>\n",
       "    <tr>\n",
       "      <th>4</th>\n",
       "      <td>2023-07</td>\n",
       "      <td>P5</td>\n",
       "      <td>Andaman &amp; Nicobar Islands</td>\n",
       "      <td>0.0</td>\n",
       "      <td>0.0</td>\n",
       "      <td>0.0</td>\n",
       "      <td>1.0</td>\n",
       "      <td>0.0</td>\n",
       "      <td>0.0</td>\n",
       "      <td>1.0</td>\n",
       "      <td>0.0</td>\n",
       "      <td>0.0</td>\n",
       "      <td>1.0</td>\n",
       "      <td>0.0</td>\n",
       "      <td>0.0</td>\n",
       "    </tr>\n",
       "  </tbody>\n",
       "</table>\n",
       "</div>"
      ],
      "text/plain": [
       "  YearMonth KVA_Id                  StateName  Enquiry_Quantity  \\\n",
       "0   2023-03     P5  Andaman & Nicobar Islands               2.0   \n",
       "1   2023-04     P5  Andaman & Nicobar Islands               0.0   \n",
       "2   2023-05     P5  Andaman & Nicobar Islands               0.0   \n",
       "3   2023-06     P5  Andaman & Nicobar Islands               1.0   \n",
       "4   2023-07     P5  Andaman & Nicobar Islands               0.0   \n",
       "\n",
       "   Booking_Quantity  Invoice_Quantity  Enquiry_Quantity_lag1  \\\n",
       "0               2.0               2.0                    NaN   \n",
       "1               0.0               0.0                    2.0   \n",
       "2               0.0               0.0                    0.0   \n",
       "3               1.0               1.0                    0.0   \n",
       "4               0.0               0.0                    1.0   \n",
       "\n",
       "   Enquiry_Quantity_lag2  Enquiry_Quantity_lag3  Booking_Quantity_lag1  \\\n",
       "0                    NaN                    NaN                    NaN   \n",
       "1                    NaN                    NaN                    2.0   \n",
       "2                    2.0                    NaN                    0.0   \n",
       "3                    0.0                    2.0                    0.0   \n",
       "4                    0.0                    0.0                    1.0   \n",
       "\n",
       "   Booking_Quantity_lag2  Booking_Quantity_lag3  Invoice_Quantity_lag1  \\\n",
       "0                    NaN                    NaN                    NaN   \n",
       "1                    NaN                    NaN                    2.0   \n",
       "2                    2.0                    NaN                    0.0   \n",
       "3                    0.0                    2.0                    0.0   \n",
       "4                    0.0                    0.0                    1.0   \n",
       "\n",
       "   Invoice_Quantity_lag2  Invoice_Quantity_lag3  \n",
       "0                    NaN                    NaN  \n",
       "1                    NaN                    NaN  \n",
       "2                    2.0                    NaN  \n",
       "3                    0.0                    2.0  \n",
       "4                    0.0                    0.0  "
      ]
     },
     "execution_count": 293,
     "metadata": {},
     "output_type": "execute_result"
    }
   ],
   "source": [
    "combined_df_filled.head()"
   ]
  },
  {
   "cell_type": "code",
   "execution_count": 291,
   "metadata": {},
   "outputs": [],
   "source": [
    "rolling_window = 3\n",
    "lags = [1, 2, 3]"
   ]
  },
  {
   "cell_type": "markdown",
   "metadata": {},
   "source": [
    "### 1. Lag Features\n"
   ]
  },
  {
   "cell_type": "code",
   "execution_count": 292,
   "metadata": {},
   "outputs": [],
   "source": [
    "# Create lag features for Enquiry_Quantity, Booking_Quantity, and Invoice_Quantity\n",
    "for col in [\"Enquiry_Quantity\", \"Booking_Quantity\", \"Invoice_Quantity\"]:\n",
    "    for lag in lags:\n",
    "        combined_df_filled[f\"{col}_lag{lag}\"] = combined_df_filled.groupby(\n",
    "            [\"KVA_Id\", \"StateName\"]\n",
    "        )[col].shift(lag)"
   ]
  },
  {
   "cell_type": "markdown",
   "metadata": {},
   "source": [
    "### 2. Rolling Statistics\n"
   ]
  },
  {
   "cell_type": "code",
   "execution_count": null,
   "metadata": {},
   "outputs": [],
   "source": [
    "for col in [\"Enquiry_Quantity\", \"Booking_Quantity\", \"Invoice_Quantity\"]:\n",
    "    combined_df_filled[f\"{col}_rolling_mean\"] = (\n",
    "        combined_df_filled.groupby([\"KVA_Id\", \"StateName\"])[col]\n",
    "        .rolling(rolling_window, min_periods=1)\n",
    "        .mean()\n",
    "        .reset_index(drop=True)\n",
    "    )\n",
    "    combined_df_filled[f\"{col}_rolling_median\"] = (\n",
    "        combined_df_filled.groupby([\"KVA_Id\", \"StateName\"])[col]\n",
    "        .rolling(rolling_window, min_periods=1)\n",
    "        .median()\n",
    "        .reset_index(drop=True)\n",
    "    )\n",
    "    combined_df_filled[f\"{col}_rolling_std\"] = (\n",
    "        combined_df_filled.groupby([\"KVA_Id\", \"StateName\"])[col]\n",
    "        .rolling(rolling_window, min_periods=1)\n",
    "        .std()\n",
    "        .reset_index(drop=True)\n",
    "    )"
   ]
  },
  {
   "cell_type": "code",
   "execution_count": 151,
   "metadata": {},
   "outputs": [],
   "source": []
  },
  {
   "cell_type": "code",
   "execution_count": 152,
   "metadata": {},
   "outputs": [],
   "source": []
  },
  {
   "cell_type": "code",
   "execution_count": null,
   "metadata": {},
   "outputs": [],
   "source": []
  },
  {
   "cell_type": "code",
   "execution_count": null,
   "metadata": {},
   "outputs": [],
   "source": []
  },
  {
   "cell_type": "code",
   "execution_count": null,
   "metadata": {},
   "outputs": [],
   "source": []
  },
  {
   "cell_type": "code",
   "execution_count": null,
   "metadata": {},
   "outputs": [],
   "source": []
  },
  {
   "cell_type": "code",
   "execution_count": null,
   "metadata": {},
   "outputs": [],
   "source": []
  },
  {
   "cell_type": "code",
   "execution_count": null,
   "metadata": {},
   "outputs": [],
   "source": []
  }
 ],
 "metadata": {
  "kernelspec": {
   "display_name": ".venv",
   "language": "python",
   "name": "python3"
  },
  "language_info": {
   "codemirror_mode": {
    "name": "ipython",
    "version": 3
   },
   "file_extension": ".py",
   "mimetype": "text/x-python",
   "name": "python",
   "nbconvert_exporter": "python",
   "pygments_lexer": "ipython3",
   "version": "3.12.6"
  }
 },
 "nbformat": 4,
 "nbformat_minor": 2
}
